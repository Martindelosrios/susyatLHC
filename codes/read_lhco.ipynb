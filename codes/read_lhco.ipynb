{
 "cells": [
  {
   "cell_type": "markdown",
   "id": "9cb5b339-4dd9-4de1-b57e-d299af096b5d",
   "metadata": {},
   "source": [
    "* Por que no hay cortes en leading lepton PT?\n",
    "* Por que el corte en leading photon pt es 10 y no 20?\n",
    "* De donde salen Wgamma_fidcross, etc?"
   ]
  },
  {
   "cell_type": "markdown",
   "id": "51c1c4f3-76b7-4963-9df6-8e935f881e05",
   "metadata": {
    "tags": []
   },
   "source": [
    "# Python 2"
   ]
  },
  {
   "cell_type": "code",
   "execution_count": 1,
   "id": "04d2484e-6f04-495f-a9b5-b597bf159881",
   "metadata": {
    "tags": []
   },
   "outputs": [],
   "source": [
    "import numpy as np\n",
    "\n",
    "from LHCO_reader import LHCO_reader\n",
    "\n",
    "import math\n",
    "import os\n",
    "\n",
    "# Plotting library\n",
    "import matplotlib.pyplot as plt\n",
    "\n",
    "import pandas as pd"
   ]
  },
  {
   "cell_type": "code",
   "execution_count": 4,
   "id": "7886ca16-8dfd-404c-9622-544b659164ab",
   "metadata": {
    "tags": []
   },
   "outputs": [
    {
     "name": "stdout",
     "output_type": "stream",
     "text": [
      "/home/martinrios/Downloads/MG5aMC_LTS_2.9.9/MG5_aMC_v2_9_9/pptowjtolnuj/run_04.lhco\n",
      "/home/martinrios/Downloads/MG5aMC_LTS_2.9.9/MG5_aMC_v2_9_9/pptowjtolnuj/run_05.lhco\n",
      "/home/martinrios/Downloads/MG5aMC_LTS_2.9.9/MG5_aMC_v2_9_9/pptowjtolnuj/run_06.lhco\n",
      "/home/martinrios/Downloads/MG5aMC_LTS_2.9.9/MG5_aMC_v2_9_9/pptowjtolnuj/run_07.lhco\n",
      "/home/martinrios/Downloads/MG5aMC_LTS_2.9.9/MG5_aMC_v2_9_9/pptowjtolnuj/run_08.lhco\n"
     ]
    }
   ],
   "source": [
    "!ls ~/Downloads/MG5aMC_LTS_2.9.9/MG5_aMC_v2_9_9/pptowjtolnuj/*.lhco"
   ]
  },
  {
   "cell_type": "markdown",
   "id": "0914c655-70c5-454e-9278-80f601ebb92a",
   "metadata": {
    "tags": []
   },
   "source": [
    "## Backgrounds"
   ]
  },
  {
   "cell_type": "markdown",
   "id": "ed6d1b56-ea9d-4458-a616-154878d71be4",
   "metadata": {
    "jp-MarkdownHeadingCollapsed": true,
    "tags": []
   },
   "source": [
    "### p p > W $\\gamma$ > $\\nu$ + l + $\\gamma$ (NOT IMPLEMENTED)"
   ]
  },
  {
   "cell_type": "code",
   "execution_count": null,
   "id": "0fcd7864-4784-4cc7-a474-f55d39f5a2b7",
   "metadata": {},
   "outputs": [],
   "source": [
    "#Folder = '~/Downloads/MG5aMC_LTS_2.9.9/MG5_aMC_v2_9_9/pptowjtolnuj/'\n",
    "#datFolder = '/media/andres/disco1tera/ubuntu/Trabajo/CompuTools/la-plata/Wino-radiative-decay/DATA/Wgamma/'\n",
    "\n",
    "Wgamma_cross = 20.34\n",
    "Wgamma_runs  = 10\n",
    "Wgamma_NLO_A = (7.124*10**1) / (2.954*10**1) #W+gamma\n",
    "Wgamma_NLO_B = (3.713*10**1) / (2.546*10**1) #W+gamma+jet\n",
    "Wgamma_NLO   = (Wgamma_NLO_A * (7.124/(7.124+3.713)) ) + (Wgamma_NLO_B * (3.713/(7.124+3.713)) )\n",
    "\n",
    "Wgamma_init_ev = 0\n",
    "Wgamma_cut_ev  = 0\n",
    "\n",
    "Wgamma_photon  = []\n",
    "Wgamma_jet     = []\n",
    "Wgamma_lepton  = []\n",
    "Wgamma_MET     = []\n",
    "Wgamma_hadinfo = []\n",
    "\n",
    "\n",
    "\n",
    "for ii in range(1, Wgamma_runs + 1):\n",
    "    \n",
    "    inputevents = LHCO_reader.Events(f_name=Folder+\"run_0\"+str(ii)+\".lhco\")\n",
    "    \n",
    "    Wgamma_init_ev += len(inputevents)\n",
    "    \n",
    "    for i in range(len(inputevents)):\n",
    "\n",
    "        num_jets = 0\n",
    "#        num_btag = 0\n",
    "        HT_had = 0 # hadronic activity HT, defined as the scalar sum of the pT of all reconstructed jets\n",
    "\n",
    "        \n",
    "        # at least one: photon, jet and lepton (electron or muon)\n",
    "        if inputevents[i].number()[\"photon\"] > 0 and inputevents[i].number()[\"jet\"] > 0 and (inputevents[i].number()[\"electron\"] > 0 or inputevents[i].number()[\"muon\"] > 0):\n",
    "            \n",
    "            if inputevents[i][\"jet\"][0][\"PT\"] > 100 and -5.0 < inputevents[i][\"jet\"][0][\"eta\"] < 5.0:\n",
    "                \n",
    "                if inputevents[i][\"photon\"][0][\"PT\"] > 10 and -2.5 < inputevents[i][\"photon\"][0][\"eta\"] < 2.5:\n",
    "                    \n",
    "                    # how many jets (total) and total hadronic pT\n",
    "                    for j in range(inputevents[i].number()[\"jet\"]):\n",
    "                        if inputevents[i][\"jet\"][j][\"PT\"] > 20 and -5.0 < inputevents[i][\"jet\"][j][\"eta\"] < 5.0:\n",
    "                            num_jets += 1\n",
    "                            HT_had += inputevents[i][\"jet\"][j][\"PT\"]\n",
    "                            \n",
    "                    # save data        \n",
    "#                     Wgamma_photon.append( [inputevents[i][\"photon\"][0][\"PT\"],inputevents[i][\"photon\"][0][\"eta\"],inputevents[i][\"photon\"][0][\"phi\"]] )\n",
    "#                     Wgamma_jet.append( [inputevents[i][\"jet\"][0][\"PT\"],inputevents[i][\"jet\"][0][\"eta\"],inputevents[i][\"jet\"][0][\"phi\"]] )\n",
    "#                     if inputevents[i].number()[\"electron\"] > 0:\n",
    "#                         Wgamma_lepton.append( [inputevents[i][\"electron\"][0][\"PT\"],inputevents[i][\"electron\"][0][\"eta\"],inputevents[i][\"electron\"][0][\"phi\"]] )\n",
    "#                     else:\n",
    "#                         Wgamma_lepton.append( [inputevents[i][\"muon\"][0][\"PT\"],inputevents[i][\"muon\"][0][\"eta\"],inputevents[i][\"muon\"][0][\"phi\"]] )\n",
    "#                     Wgamma_MET.append( [inputevents[i][\"MET\"][0][\"PT\"],inputevents[i][\"MET\"][0][\"eta\"],inputevents[i][\"MET\"][0][\"phi\"]] )\n",
    "#                     Wgamma_hadinfo.append( [HT, num_jets] )\n",
    "                    \n",
    "                            \n",
    "                            \n",
    "                    # photon info:\n",
    "                    with open(datFolder+'photon.dat', 'a') as f:\n",
    "                        f.write('%f %f %f\\n' % (inputevents[i][\"photon\"][0][\"PT\"],inputevents[i][\"photon\"][0][\"eta\"],inputevents[i][\"photon\"][0][\"phi\"]))\n",
    "                        \n",
    "                    # jet info:\n",
    "                    with open(datFolder+'jet.dat', 'a') as f:\n",
    "                        f.write('%f %f %f\\n' % (inputevents[i][\"jet\"][0][\"PT\"],inputevents[i][\"jet\"][0][\"eta\"],inputevents[i][\"jet\"][0][\"phi\"]))\n",
    "                                \n",
    "                    # lepton info\n",
    "                    if inputevents[i].number()[\"electron\"] > 0:\n",
    "                        with open(datFolder+'lepton.dat', 'a') as f:\n",
    "                            f.write('%f %f %f\\n' % (inputevents[i][\"electron\"][0][\"PT\"],inputevents[i][\"electron\"][0][\"eta\"],inputevents[i][\"electron\"][0][\"phi\"]))\n",
    "                    else:\n",
    "                        with open(datFolder+'lepton.dat', 'a') as f:\n",
    "                            f.write('%f %f %f\\n' % (inputevents[i][\"muon\"][0][\"PT\"],inputevents[i][\"muon\"][0][\"eta\"],inputevents[i][\"muon\"][0][\"phi\"]))\n",
    "                            \n",
    "                    # MET (eta=0 by def, but I save phi because I have many jets)\n",
    "                    with open(datFolder+'MET.dat', 'a') as f:\n",
    "                        f.write('%f %f %f\\n' % (inputevents[i][\"MET\"][0][\"PT\"],inputevents[i][\"MET\"][0][\"eta\"],inputevents[i][\"MET\"][0][\"phi\"]))\n",
    "                                 \n",
    "                    # hadronic info\n",
    "                    with open(datFolder+'hadinfo.dat', 'a') as f:\n",
    "                        f.write('%f %d\\n' % (HT_had, num_jets))\n",
    "                    \n",
    "                    # total events that passed the cuts\n",
    "                    Wgamma_cut_ev += 1\n",
    "\n",
    "\n",
    "\n",
    "print('Num initial events: ', Wgamma_init_ev)\n",
    "print('Total pasaron los cortes: ', Wgamma_cut_ev)"
   ]
  },
  {
   "cell_type": "markdown",
   "id": "2b70a66b-67d4-4e36-9ac2-420df1a55388",
   "metadata": {},
   "source": [
    "### p p > W jets > $\\nu$ l jets"
   ]
  },
  {
   "cell_type": "code",
   "execution_count": null,
   "id": "b909f4ec-5f26-4dcc-bd8e-8d45e174d672",
   "metadata": {},
   "outputs": [],
   "source": [
    "# PAPER MADGRAPH for the NLO corrections\n",
    "# https://arxiv.org/pdf/1405.0301.pdf"
   ]
  },
  {
   "cell_type": "code",
   "execution_count": 6,
   "id": "958501c0-baef-4767-839c-5cf04921dca1",
   "metadata": {
    "tags": []
   },
   "outputs": [
    {
     "name": "stdout",
     "output_type": "stream",
     "text": [
      "4\n",
      "5\n",
      "6\n",
      "7\n",
      "8\n",
      "('Num initial events: ', 2058201)\n",
      "('Total pasaron los cortes: ', 15651)\n"
     ]
    }
   ],
   "source": [
    "Folder    = '/home/martinrios/Downloads/MG5aMC_LTS_2.9.9/MG5_aMC_v2_9_9/pptowjtolnuj/'\n",
    "datFolder = '../data/Wjets/'\n",
    "\n",
    "Wjets_cross = 91.89 #[pb]\n",
    "Wjets_runs  = 4\n",
    "Wjets_NLO_A = (2.843*10**4) / (2.045*10**4) # W+jet\n",
    "Wjets_NLO_B = (7.786*10**3) / (6.805*10**3) # W+jet+jet\n",
    "Wjets_NLO   = (Wjets_NLO_A * (28.43/(28.43+7.786)) ) + (Wjets_NLO_B * (7.786/(28.43+7.786)) )\n",
    "\n",
    "Wjets_init_ev = 0\n",
    "Wjets_cut_ev  = 0\n",
    "\n",
    "Wjets_photon  = []\n",
    "Wjets_jet     = []\n",
    "Wjets_lepton  = []\n",
    "Wjets_MET     = []\n",
    "Wjets_hadinfo = []\n",
    "\n",
    "\n",
    "for ii in range(4, Wjets_runs + 5):\n",
    "    print(ii)\n",
    "    \n",
    "    inputevents = LHCO_reader.Events(f_name = Folder + \"run_0\" + str(ii) + \".lhco\")\n",
    "    \n",
    "    Wjets_init_ev += len(inputevents)\n",
    "    \n",
    "    for i in range(len(inputevents)):\n",
    "\n",
    "        num_jets = 0\n",
    "#        num_btag = 0\n",
    "        HT_had = 0 # hadronic activity HT, defined as the scalar sum of the pT of all reconstructed jets\n",
    "\n",
    "        \n",
    "        # at least one: photon, jet and lepton (electron or muon)\n",
    "        if inputevents[i].number()[\"photon\"] > 0 and inputevents[i].number()[\"jet\"] > 0 and (inputevents[i].number()[\"electron\"] > 0 or inputevents[i].number()[\"muon\"] > 0):\n",
    "            if inputevents[i][\"jet\"][0][\"PT\"] > 100 and -5.0 < inputevents[i][\"jet\"][0][\"eta\"] < 5.0:\n",
    "                \n",
    "                if inputevents[i][\"photon\"][0][\"PT\"] > 10 and -2.5 < inputevents[i][\"photon\"][0][\"eta\"] < 2.5:\n",
    "                    \n",
    "                    # how many jets (total) and total hadronic pT\n",
    "                    for j in range(inputevents[i].number()[\"jet\"]):\n",
    "                        if inputevents[i][\"jet\"][j][\"PT\"] > 20 and -5.0 < inputevents[i][\"jet\"][j][\"eta\"] < 5.0:\n",
    "                            num_jets += 1\n",
    "                            HT_had += inputevents[i][\"jet\"][j][\"PT\"]\n",
    "             \n",
    "                            \n",
    "                    # photon info:\n",
    "                    with open(datFolder + 'photon.dat', 'a') as f:\n",
    "                        f.write('%f %f %f\\n' % (inputevents[i][\"photon\"][0][\"PT\"],inputevents[i][\"photon\"][0][\"eta\"],inputevents[i][\"photon\"][0][\"phi\"]))\n",
    "                        \n",
    "                    # jet info:\n",
    "                    with open(datFolder + 'jet.dat', 'a') as f:\n",
    "                        f.write('%f %f %f\\n' % (inputevents[i][\"jet\"][0][\"PT\"],inputevents[i][\"jet\"][0][\"eta\"],inputevents[i][\"jet\"][0][\"phi\"]))\n",
    "                                \n",
    "                    # lepton info\n",
    "                    if inputevents[i].number()[\"electron\"] > 0:\n",
    "                        with open(datFolder + 'lepton.dat', 'a') as f:\n",
    "                            f.write('%f %f %f\\n' % (inputevents[i][\"electron\"][0][\"PT\"],inputevents[i][\"electron\"][0][\"eta\"],inputevents[i][\"electron\"][0][\"phi\"]))\n",
    "                    else:\n",
    "                        with open(datFolder + 'lepton.dat', 'a') as f:\n",
    "                            f.write('%f %f %f\\n' % (inputevents[i][\"muon\"][0][\"PT\"],inputevents[i][\"muon\"][0][\"eta\"],inputevents[i][\"muon\"][0][\"phi\"]))\n",
    "                            \n",
    "                    # MET (eta=0 by def, but I save phi because I have many jets)\n",
    "                    with open(datFolder + 'MET.dat', 'a') as f:\n",
    "                        f.write('%f %f %f\\n' % (inputevents[i][\"MET\"][0][\"PT\"],inputevents[i][\"MET\"][0][\"eta\"],inputevents[i][\"MET\"][0][\"phi\"]))\n",
    "                                 \n",
    "                    # hadronic info\n",
    "                    with open(datFolder + 'hadinfo.dat', 'a') as f:\n",
    "                        f.write('%f %d\\n' % (HT_had, num_jets))\n",
    "                    \n",
    "                    # total events that passed the cuts\n",
    "                    Wjets_cut_ev += 1\n",
    "\n",
    "print('Num initial events: ', Wjets_init_ev)\n",
    "print('Total pasaron los cortes: ', Wjets_cut_ev)"
   ]
  },
  {
   "cell_type": "code",
   "execution_count": 5,
   "id": "a021ccf8-f787-4741-9224-0d240dc3136b",
   "metadata": {
    "tags": []
   },
   "outputs": [
    {
     "name": "stdout",
     "output_type": "stream",
     "text": [
      "('events with photons ', 32273)\n",
      "('events with jets ', 544895)\n",
      "('events with electrons ', 155294)\n",
      "('events with muons ', 206141)\n"
     ]
    }
   ],
   "source": [
    "ph_number  = []\n",
    "jet_number = []\n",
    "e_number   = []\n",
    "mu_number  = []\n",
    "\n",
    "for i in range(len(inputevents)):\n",
    "    ph_number.append(inputevents[i].number()['photon'])\n",
    "    jet_number.append(inputevents[i].number()['jet'])\n",
    "    e_number.append(inputevents[i].number()['electron'])\n",
    "    mu_number.append(inputevents[i].number()['muon'])\n",
    "    \n",
    "    \n",
    "print('events with photons ', len(np.where(np.asarray(ph_number) > 0)[0]))\n",
    "print('events with jets ', len(np.where(np.asarray(jet_number) > 0)[0]))\n",
    "print('events with electrons ', len(np.where(np.asarray(e_number) > 0)[0]))\n",
    "print('events with muons ', len(np.where(np.asarray(mu_number) > 0)[0]))"
   ]
  },
  {
   "cell_type": "code",
   "execution_count": 16,
   "id": "48ebb87b-658a-411e-8b33-e1e4f308adbe",
   "metadata": {},
   "outputs": [
    {
     "name": "stdout",
     "output_type": "stream",
     "text": [
      "('fiducial cross section: ', 3948.3772654494587)\n",
      "('Events expected: ', 548824.4398974747)\n"
     ]
    }
   ],
   "source": [
    "cross       = Wjets_cross*1000*Wjets_NLO\n",
    "aceptancia  = Wjets_cut_ev/(1.*Wjets_init_ev)\n",
    "luminosidad = 100\n",
    "\n",
    "Wjets_fidcross = cross * aceptancia\n",
    "Wjets_expected = cross * aceptancia * luminosidad\n",
    "\n",
    "print('fiducial cross section: ', Wjets_fidcross)\n",
    "print('Events expected: ', Wjets_expected)"
   ]
  }
 ],
 "metadata": {
  "kernelspec": {
   "display_name": "Python 2",
   "language": "python",
   "name": "python2"
  },
  "language_info": {
   "codemirror_mode": {
    "name": "ipython",
    "version": 2
   },
   "file_extension": ".py",
   "mimetype": "text/x-python",
   "name": "python",
   "nbconvert_exporter": "python",
   "pygments_lexer": "ipython2",
   "version": "2.7.18"
  }
 },
 "nbformat": 4,
 "nbformat_minor": 5
}
