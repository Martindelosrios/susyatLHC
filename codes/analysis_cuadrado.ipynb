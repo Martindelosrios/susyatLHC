{
 "cells": [
  {
   "cell_type": "code",
   "execution_count": 1,
   "id": "23b23ee8-0482-44ee-9466-fd84a91140cc",
   "metadata": {},
   "outputs": [],
   "source": [
    "import numpy as np\n",
    "import pandas as pd\n",
    "import matplotlib.pyplot as plt\n",
    "import seaborn as sns\n",
    "from matplotlib import gridspec\n",
    "from matplotlib import patches\n",
    "from matplotlib import cm\n",
    "from mpl_toolkits.mplot3d import Axes3D\n",
    "\n",
    "import os\n",
    "import math\n",
    "import random\n",
    "\n",
    "from sklearn.preprocessing import MinMaxScaler\n",
    "from sklearn.model_selection import train_test_split\n",
    "from sklearn.utils import shuffle\n",
    "from sklearn import preprocessing\n",
    "from sklearn.metrics import roc_curve, roc_auc_score, auc\n",
    "\n",
    "import scipy.stats as st\n",
    "from scipy.stats import poisson\n",
    "from scipy.interpolate import interp1d\n",
    "from scipy.stats import norm\n",
    "\n",
    "\n",
    "from sklearn.neighbors import KernelDensity \n",
    "from sklearn.model_selection import GridSearchCV\n",
    "\n",
    "import scipy.integrate as integrate\n",
    "\n",
    "\n",
    "import xgboost\n",
    "from xgboost import XGBRegressor, XGBClassifier"
   ]
  },
  {
   "cell_type": "code",
   "execution_count": 2,
   "id": "58d29802-3fab-4d75-aaa1-4f84884c8d17",
   "metadata": {},
   "outputs": [],
   "source": [
    "import matplotlib as mpl\n",
    "mpl.rc('xtick', labelsize=12) \n",
    "mpl.rc('ytick', labelsize=12) "
   ]
  },
  {
   "cell_type": "markdown",
   "id": "54dae264-8b5c-4ceb-a1aa-344d392db015",
   "metadata": {
    "tags": []
   },
   "source": [
    "# Reading the data"
   ]
  },
  {
   "cell_type": "code",
   "execution_count": 3,
   "id": "59e126fa-327f-4caa-af5d-08ce7d760e14",
   "metadata": {},
   "outputs": [
    {
     "data": {
      "text/plain": [
       "1220.2739584854994"
      ]
     },
     "execution_count": 3,
     "metadata": {},
     "output_type": "execute_result"
    }
   ],
   "source": [
    "Wgamma_fidcross  = 584.6234734948906\n",
    "Wjets_fidcross   = 606.8765059826087\n",
    "ttgamma_fidcross = 28.773979008\n",
    "B_fidcross_tot   = Wgamma_fidcross + Wjets_fidcross + ttgamma_fidcross\n",
    "B_fidcross_tot"
   ]
  },
  {
   "cell_type": "code",
   "execution_count": 4,
   "id": "8cc5a098-51dc-4d63-8230-62c4bdbc286f",
   "metadata": {},
   "outputs": [],
   "source": [
    "B_expected = (2877.3979008 + 58462.347349489064 + 60687.65059826087)"
   ]
  },
  {
   "cell_type": "code",
   "execution_count": 5,
   "id": "2cd96466-2617-4480-a3f9-92b9d58e4d9a",
   "metadata": {},
   "outputs": [],
   "source": [
    "##############\n",
    "# input data #\n",
    "##############\n",
    "\n",
    "# photon -> (pT, eta, phi) from the leading photon\n",
    "# jet -> (pT, eta, phi) from the leading jet\n",
    "# lepton -> (pT, eta, phi) from the lepton (electron or muon)\n",
    "# MET -> (pT, eta, phi) eta = 0 by construction, but phi is important because we have a lot of jets that we do not use\n",
    "# hadinfo -> (HT, num_jets)  HT: sum PT of all the jets, number of jets (b-tag or not)\n",
    "\n",
    "\n",
    "######\n",
    "# SM #\n",
    "######\n",
    "\n",
    "# W gamma + W gamma jet #\n",
    "# Dominant # Np es el W jet el dominant??\n",
    "\n",
    "datFolderWgamma = '../data/Wgamma/'\n",
    "\n",
    "photon_Wgamma  = np.loadtxt(datFolderWgamma + 'photon_3.dat', delimiter=' ')\n",
    "jet_Wgamma     = np.loadtxt(datFolderWgamma + 'jet_3.dat', delimiter=' ')\n",
    "lepton_Wgamma  = np.loadtxt(datFolderWgamma + 'lepton_3.dat', delimiter=' ')\n",
    "MET_Wgamma     = np.loadtxt(datFolderWgamma + 'MET_3.dat', delimiter=' ')\n",
    "hadinfo_Wgamma = np.loadtxt(datFolderWgamma + 'hadinfo_3.dat', delimiter=' ')\n",
    "\n",
    "\n",
    "# W jet + W jet jet #\n",
    "\n",
    "datFolderWjets = '../data/Wjets/'\n",
    "\n",
    "photon_Wjets  = np.loadtxt(datFolderWjets + 'photon_3.dat', delimiter=' ')\n",
    "jet_Wjets     = np.loadtxt(datFolderWjets + 'jet_3.dat', delimiter=' ')\n",
    "lepton_Wjets  = np.loadtxt(datFolderWjets + 'lepton_3.dat', delimiter=' ')\n",
    "MET_Wjets     = np.loadtxt(datFolderWjets + 'MET_3.dat', delimiter=' ')\n",
    "hadinfo_Wjets = np.loadtxt(datFolderWjets + 'hadinfo_3.dat', delimiter=' ')\n",
    "\n",
    "\n",
    "# tt gamma + tt gamma jet #\n",
    "\n",
    "datFolderttgamma = '../data/ttGamma/'\n",
    " \n",
    "photon_ttgamma  = np.loadtxt(datFolderttgamma + 'photon_3.dat', delimiter=' ')\n",
    "jet_ttgamma     = np.loadtxt(datFolderttgamma + 'jet_3.dat', delimiter=' ')\n",
    "lepton_ttgamma  = np.loadtxt(datFolderttgamma + 'lepton_3.dat', delimiter=' ')\n",
    "MET_ttgamma     = np.loadtxt(datFolderttgamma + 'MET_3.dat', delimiter=' ')\n",
    "hadinfo_ttgamma = np.loadtxt(datFolderttgamma + 'hadinfo_3.dat', delimiter=' ')\n",
    "\n",
    "\n",
    "photon_SM  = np.concatenate([photon_Wgamma, photon_Wjets, photon_ttgamma])\n",
    "jet_SM     = np.concatenate([jet_Wgamma, jet_Wjets, jet_ttgamma]) \n",
    "lepton_SM  = np.concatenate([lepton_Wgamma, lepton_Wjets, lepton_ttgamma])\n",
    "MET_SM     = np.concatenate([MET_Wgamma, MET_Wjets, MET_ttgamma])\n",
    "hadinfo_SM = np.concatenate([hadinfo_Wgamma, hadinfo_Wjets, hadinfo_ttgamma])\n"
   ]
  },
  {
   "cell_type": "code",
   "execution_count": 6,
   "id": "63e6974d-81c9-4374-af98-b0dd3c68e65a",
   "metadata": {},
   "outputs": [],
   "source": [
    "Wgamma_sample = len(photon_Wgamma)\n",
    "Wjets_sample = len(photon_Wjets)\n",
    "ttgamma_sample = len(photon_ttgamma)"
   ]
  },
  {
   "cell_type": "code",
   "execution_count": 7,
   "id": "a50015d6-1a74-4d6f-adc1-2b863715edc1",
   "metadata": {},
   "outputs": [],
   "source": [
    "bkg_flag = np.zeros(len(photon_SM))\n",
    "\n",
    "bkg_flag[:Wgamma_sample] = 1\n",
    "bkg_flag[Wgamma_sample:(Wgamma_sample + Wjets_sample)] = 2\n",
    "bkg_flag[(Wgamma_sample + Wjets_sample):len(photon_SM)] = 3"
   ]
  },
  {
   "cell_type": "code",
   "execution_count": 8,
   "id": "a65e3734-ca15-430b-94af-6d5df66ce95f",
   "metadata": {},
   "outputs": [],
   "source": [
    "######\n",
    "# NP #\n",
    "######\n",
    "\n",
    "datFolderNP = '../data/Signal/'\n",
    "\n",
    "photon_NP  = []\n",
    "jet_NP     = []\n",
    "lepton_NP  = []\n",
    "MET_NP     = []\n",
    "hadinfo_NP = []\n",
    "name       = []\n",
    "for i in [1,2,3,4,5,6,7,8,9,10,11,12,13,14,15]:\n",
    "    name.append('BP' + str(i))\n",
    "    photon_NP.append( np.loadtxt(datFolderNP + 'BP' + str(i) + '_photon_3.dat', delimiter=' ') )\n",
    "    jet_NP.append( np.loadtxt(datFolderNP + 'BP' + str(i) + '_jet_3.dat', delimiter=' ') )\n",
    "    lepton_NP.append( np.loadtxt(datFolderNP + 'BP' + str(i) + '_lepton_3.dat', delimiter=' ') )\n",
    "    MET_NP.append( np.loadtxt(datFolderNP + 'BP' + str(i) + '_MET_3.dat', delimiter=' ') )\n",
    "    hadinfo_NP.append( np.loadtxt(datFolderNP + 'BP' + str(i) + '_hadinfo_3.dat', delimiter=' ') )"
   ]
  },
  {
   "cell_type": "code",
   "execution_count": 9,
   "id": "13560134-5c4c-4104-b6b7-72753e4a6f5d",
   "metadata": {},
   "outputs": [
    {
     "name": "stdout",
     "output_type": "stream",
     "text": [
      "SM (5892229, 3)\n",
      "BP1 (238160, 3)\n",
      "BP2 (246196, 3)\n",
      "BP3 (242249, 3)\n",
      "BP4 (301575, 3)\n",
      "BP5 (266047, 3)\n",
      "BP6 (203155, 3)\n",
      "BP7 (315960, 3)\n",
      "BP8 (280065, 3)\n",
      "BP9 (225958, 3)\n",
      "BP10 (326687, 3)\n",
      "BP11 (292051, 3)\n",
      "BP12 (244271, 3)\n",
      "BP13 (334782, 3)\n",
      "BP14 (301215, 3)\n",
      "BP15 (258277, 3)\n"
     ]
    }
   ],
   "source": [
    "print('SM', jet_SM.shape)\n",
    "for i in range(len(jet_NP)):\n",
    "    print(name[i], jet_NP[i].shape)"
   ]
  },
  {
   "cell_type": "code",
   "execution_count": 10,
   "id": "225f7e50-f8f7-4520-af24-c14070990394",
   "metadata": {},
   "outputs": [
    {
     "name": "stdout",
     "output_type": "stream",
     "text": [
      "fiducial cross section:  [2.01975705 4.59249772 0.63746286 1.11014281 2.35046139 3.34036999\n",
      " 0.66077347 1.29094281 1.79376306 0.39998985 0.73619851 1.02039447\n",
      " 0.22861593 0.4113874  0.57320964]\n",
      "Events expected:  [201.97570473 459.24977152  63.74628649 111.01428112 235.04613937\n",
      " 334.03699928  66.07734672 129.09428136 179.37630638  39.99898458\n",
      "  73.61985102 102.03944697  22.86159322  41.13873984  57.32096427]\n"
     ]
    }
   ],
   "source": [
    "cross_section_bps    = np.asarray([190, 189, 189, 92, 92, 92, 49, 48, 48, 27, 27, 27, 16, 16, 16])\n",
    "branching_ratios_bps = np.asarray([0.14, 0.37, 0.73, 0.15, 0.36, 0.67, 0.16, 0.36, 0.62, 0.17, 0.35, 0.58, 0.16, 0.32, 0.52])\n",
    "\n",
    "signal_cross        = cross_section_bps * branching_ratios_bps *  0.2134 # fb\n",
    "signal_init_sim_eve = np.asarray([836673,1e6,1.4e6,1e6,1e6,1e6,1e6,1e6,1e6,1e6,1e6,1e6,1e6,1e6,1e6])\n",
    "signal_cut_ev       = np.asarray([238160,246196,24249,301575,266047,203155,315960,280065,225958,326687,292051,244271,334782,301215,258277])\n",
    "signal_NLO          = 1.25\n",
    "\n",
    "cross       = signal_cross * signal_NLO\n",
    "aceptancia  = signal_cut_ev / (1. * signal_init_sim_eve)\n",
    "luminosidad = 100\n",
    "\n",
    "signal_fidcross = cross * aceptancia\n",
    "S_expected = cross * aceptancia * luminosidad\n",
    "\n",
    "print('fiducial cross section: ', signal_fidcross)\n",
    "print('Events expected: ', S_expected)"
   ]
  },
  {
   "cell_type": "code",
   "execution_count": 11,
   "id": "7319d090-8e88-4c3e-a857-6a8e5e81ee05",
   "metadata": {},
   "outputs": [],
   "source": [
    "# other variables, individual channels:\n",
    "\n",
    "HT_main_Wgamma = photon_Wgamma[:,0] + lepton_Wgamma[:,0] + jet_Wgamma[:,0]\n",
    "\n",
    "MET_sig_Wgamma = np.divide( MET_Wgamma[:,0],np.sqrt(HT_main_Wgamma) )\n",
    "\n",
    "m_eff_Wgamma = MET_Wgamma[:,0] + photon_Wgamma[:,0] + lepton_Wgamma[:,0] + jet_Wgamma[:,0]\n",
    "\n",
    "phi_MET_photon_Wgamma = np.absolute( MET_Wgamma[:,2] - photon_Wgamma[:,2] )\n",
    "phi_MET_jet_Wgamma    = np.absolute( MET_Wgamma[:,2] - jet_Wgamma[:,2] )\n",
    "phi_MET_lepton_Wgamma = np.absolute( MET_Wgamma[:,2] - lepton_Wgamma[:,2] )\n",
    "\n",
    "mT_photon_Wgamma = np.sqrt( (2*photon_Wgamma[:,0]*MET_Wgamma[:,0]) * (1 - np.cos(phi_MET_photon_Wgamma)) )\n",
    "mT_jet_Wgamma    = np.sqrt( (2*jet_Wgamma[:,0]*MET_Wgamma[:,0]) * (1 - np.cos(phi_MET_jet_Wgamma)) )\n",
    "mT_lepton_Wgamma = np.sqrt( (2*lepton_Wgamma[:,0]*MET_Wgamma[:,0]) * (1 - np.cos(phi_MET_lepton_Wgamma)) )\n",
    "\n",
    "phi_photon_jet_Wgamma    = np.absolute( photon_Wgamma[:,2] - jet_Wgamma[:,2] )\n",
    "phi_photon_lepton_Wgamma = np.absolute( photon_Wgamma[:,2] - lepton_Wgamma[:,2] )\n",
    "phi_lepton_jet_Wgamma    = np.absolute( lepton_Wgamma[:,2] - jet_Wgamma[:,2] )\n",
    "\n",
    "phi_photon_jet_Wgamma[phi_photon_jet_Wgamma>np.pi]       = (2.* np.pi) - phi_photon_jet_Wgamma[phi_photon_jet_Wgamma>np.pi]\n",
    "phi_photon_lepton_Wgamma[phi_photon_lepton_Wgamma>np.pi] = (2.* np.pi) - phi_photon_lepton_Wgamma[phi_photon_lepton_Wgamma>np.pi]\n",
    "phi_lepton_jet_Wgamma[phi_lepton_jet_Wgamma>np.pi]       = (2.* np.pi) - phi_lepton_jet_Wgamma[phi_lepton_jet_Wgamma>np.pi]\n",
    "\n",
    "deltaR_photon_jet_Wgamma    = np.sqrt( (photon_Wgamma[:,1]-jet_Wgamma[:,1])**2 + (phi_photon_jet_Wgamma)**2 )\n",
    "deltaR_photon_lepton_Wgamma = np.sqrt( (photon_Wgamma[:,1]-lepton_Wgamma[:,1])**2 + (phi_photon_lepton_Wgamma)**2 )\n",
    "deltaR_lepton_jet_Wgamma    = np.sqrt( (lepton_Wgamma[:,1]-jet_Wgamma[:,1])**2 + (phi_lepton_jet_Wgamma)**2 )\n",
    "\n",
    "HT_main_Wjets = photon_Wjets[:,0]+lepton_Wjets[:,0]+jet_Wjets[:,0]\n",
    "\n",
    "MET_sig_Wjets = np.divide( MET_Wjets[:,0],np.sqrt(HT_main_Wjets) )\n",
    "\n",
    "m_eff_Wjets = MET_Wjets[:,0] + photon_Wjets[:,0]+lepton_Wjets[:,0]+jet_Wjets[:,0]\n",
    "\n",
    "phi_MET_photon_Wjets = np.absolute( MET_Wjets[:,2] - photon_Wjets[:,2] )\n",
    "phi_MET_jet_Wjets    = np.absolute( MET_Wjets[:,2] - jet_Wjets[:,2] )\n",
    "phi_MET_lepton_Wjets = np.absolute( MET_Wjets[:,2] - lepton_Wjets[:,2] )\n",
    "\n",
    "mT_photon_Wjets = np.sqrt( (2*photon_Wjets[:,0]*MET_Wjets[:,0]) * (1 - np.cos(phi_MET_photon_Wjets)) )\n",
    "mT_jet_Wjets    = np.sqrt( (2*jet_Wjets[:,0]*MET_Wjets[:,0]) * (1 - np.cos(phi_MET_jet_Wjets)) )\n",
    "mT_lepton_Wjets = np.sqrt( (2*lepton_Wjets[:,0]*MET_Wjets[:,0]) * (1 - np.cos(phi_MET_lepton_Wjets)) )\n",
    "\n",
    "phi_photon_jet_Wjets    = np.absolute( photon_Wjets[:,2] - jet_Wjets[:,2] )\n",
    "phi_photon_lepton_Wjets = np.absolute( photon_Wjets[:,2] - lepton_Wjets[:,2] )\n",
    "phi_lepton_jet_Wjets    = np.absolute( lepton_Wjets[:,2] - jet_Wjets[:,2] )\n",
    "\n",
    "phi_photon_jet_Wjets[phi_photon_jet_Wjets>np.pi]       = (2.* np.pi) - phi_photon_jet_Wjets[phi_photon_jet_Wjets>np.pi]\n",
    "phi_photon_lepton_Wjets[phi_photon_lepton_Wjets>np.pi] = (2.* np.pi) - phi_photon_lepton_Wjets[phi_photon_lepton_Wjets>np.pi]\n",
    "phi_lepton_jet_Wjets[phi_lepton_jet_Wjets>np.pi]       = (2.* np.pi) - phi_lepton_jet_Wjets[phi_lepton_jet_Wjets>np.pi]\n",
    "\n",
    "deltaR_photon_jet_Wjets    = np.sqrt( (photon_Wjets[:,1]-jet_Wjets[:,1])**2 + (phi_photon_jet_Wjets)**2 )\n",
    "deltaR_photon_lepton_Wjets = np.sqrt( (photon_Wjets[:,1]-lepton_Wjets[:,1])**2 + (phi_photon_lepton_Wjets)**2 )\n",
    "deltaR_lepton_jet_Wjets    = np.sqrt( (lepton_Wjets[:,1]-jet_Wjets[:,1])**2 + (phi_lepton_jet_Wjets)**2 )\n",
    "\n",
    "\n",
    "HT_main_ttgamma = photon_ttgamma[:,0]+lepton_ttgamma[:,0]+jet_ttgamma[:,0]\n",
    "\n",
    "MET_sig_ttgamma = np.divide( MET_ttgamma[:,0],np.sqrt(HT_main_ttgamma) )\n",
    "\n",
    "m_eff_ttgamma = MET_ttgamma[:,0] + photon_ttgamma[:,0]+lepton_ttgamma[:,0]+jet_ttgamma[:,0]\n",
    "\n",
    "phi_MET_photon_ttgamma = np.absolute( MET_ttgamma[:,2] - photon_ttgamma[:,2] )\n",
    "phi_MET_jet_ttgamma    = np.absolute( MET_ttgamma[:,2] - jet_ttgamma[:,2] )\n",
    "phi_MET_lepton_ttgamma = np.absolute( MET_ttgamma[:,2] - lepton_ttgamma[:,2] )\n",
    "\n",
    "mT_photon_ttgamma = np.sqrt( (2*photon_ttgamma[:,0]*MET_ttgamma[:,0]) * (1 - np.cos(phi_MET_photon_ttgamma)) )\n",
    "mT_jet_ttgamma    = np.sqrt( (2*jet_ttgamma[:,0]*MET_ttgamma[:,0]) * (1 - np.cos(phi_MET_jet_ttgamma)) )\n",
    "mT_lepton_ttgamma = np.sqrt( (2*lepton_ttgamma[:,0]*MET_ttgamma[:,0]) * (1 - np.cos(phi_MET_lepton_ttgamma)) )\n",
    "\n",
    "phi_photon_jet_ttgamma    = np.absolute( photon_ttgamma[:,2] - jet_ttgamma[:,2] )\n",
    "phi_photon_lepton_ttgamma = np.absolute( photon_ttgamma[:,2] - lepton_ttgamma[:,2] )\n",
    "phi_lepton_jet_ttgamma    = np.absolute( lepton_ttgamma[:,2] - jet_ttgamma[:,2] )\n",
    "\n",
    "phi_photon_jet_ttgamma[phi_photon_jet_ttgamma>np.pi]       = (2.* np.pi) - phi_photon_jet_ttgamma[phi_photon_jet_ttgamma>np.pi]\n",
    "phi_photon_lepton_ttgamma[phi_photon_lepton_ttgamma>np.pi] = (2.* np.pi) - phi_photon_lepton_ttgamma[phi_photon_lepton_ttgamma>np.pi]\n",
    "phi_lepton_jet_ttgamma[phi_lepton_jet_ttgamma>np.pi]       = (2.* np.pi) - phi_lepton_jet_ttgamma[phi_lepton_jet_ttgamma>np.pi]\n",
    "\n",
    "deltaR_photon_jet_ttgamma    = np.sqrt( (photon_ttgamma[:,1]-jet_ttgamma[:,1])**2 + (phi_photon_jet_ttgamma)**2 )\n",
    "deltaR_photon_lepton_ttgamma = np.sqrt( (photon_ttgamma[:,1]-lepton_ttgamma[:,1])**2 + (phi_photon_lepton_ttgamma)**2 )\n",
    "deltaR_lepton_jet_ttgamma    = np.sqrt( (lepton_ttgamma[:,1]-jet_ttgamma[:,1])**2 + (phi_lepton_jet_ttgamma)**2 )\n",
    "\n",
    "\n",
    "\n",
    "# other variables\n",
    "\n",
    "HT_main_SM = photon_SM[:,0]+lepton_SM[:,0]+jet_SM[:,0]\n",
    "\n",
    "MET_sig_SM = np.divide( MET_SM[:,0],np.sqrt(HT_main_SM) )\n",
    "\n",
    "m_eff_SM = MET_SM[:,0] + photon_SM[:,0]+lepton_SM[:,0]+jet_SM[:,0]\n",
    "\n",
    "phi_MET_photon_SM = np.absolute( MET_SM[:,2] - photon_SM[:,2] )\n",
    "phi_MET_jet_SM    = np.absolute( MET_SM[:,2] - jet_SM[:,2] )\n",
    "phi_MET_lepton_SM = np.absolute( MET_SM[:,2] - lepton_SM[:,2] )\n",
    "\n",
    "mT_photon_SM = np.sqrt( (2*photon_SM[:,0]*MET_SM[:,0]) * (1 - np.cos(phi_MET_photon_SM)) )\n",
    "mT_jet_SM    = np.sqrt( (2*jet_SM[:,0]*MET_SM[:,0]) * (1 - np.cos(phi_MET_jet_SM)) )\n",
    "mT_lepton_SM = np.sqrt( (2*lepton_SM[:,0]*MET_SM[:,0]) * (1 - np.cos(phi_MET_lepton_SM)) )\n",
    "\n",
    "phi_photon_jet_SM    = np.absolute( photon_SM[:,2] - jet_SM[:,2] )\n",
    "phi_photon_lepton_SM = np.absolute( photon_SM[:,2] - lepton_SM[:,2] )\n",
    "phi_lepton_jet_SM    = np.absolute( lepton_SM[:,2] - jet_SM[:,2] )\n",
    "\n",
    "phi_photon_jet_SM[phi_photon_jet_SM>np.pi]       = (2.* np.pi) - phi_photon_jet_SM[phi_photon_jet_SM>np.pi]\n",
    "phi_photon_lepton_SM[phi_photon_lepton_SM>np.pi] = (2.* np.pi) - phi_photon_lepton_SM[phi_photon_lepton_SM>np.pi]\n",
    "phi_lepton_jet_SM[phi_lepton_jet_SM>np.pi]       = (2.* np.pi) - phi_lepton_jet_SM[phi_lepton_jet_SM>np.pi]\n",
    "\n",
    "deltaR_photon_jet_SM    = np.sqrt( (photon_SM[:,1]-jet_SM[:,1])**2 + (phi_photon_jet_SM)**2 )\n",
    "deltaR_photon_lepton_SM = np.sqrt( (photon_SM[:,1]-lepton_SM[:,1])**2 + (phi_photon_lepton_SM)**2 )\n",
    "deltaR_lepton_jet_SM    = np.sqrt( (lepton_SM[:,1]-jet_SM[:,1])**2 + (phi_lepton_jet_SM)**2 )"
   ]
  },
  {
   "cell_type": "code",
   "execution_count": 12,
   "id": "340f9df1-f914-4ba9-811c-0f9bacd4c21c",
   "metadata": {},
   "outputs": [],
   "source": [
    "# other variables NEW PHYSICS\n",
    "HT_main_NP = []\n",
    "MET_sig_NP = []\n",
    "m_eff_NP   = []\n",
    "\n",
    "phi_MET_photon_NP = []\n",
    "phi_MET_jet_NP    = []\n",
    "phi_MET_lepton_NP = []\n",
    "\n",
    "mT_photon_NP = []\n",
    "mT_jet_NP    = []\n",
    "mT_lepton_NP = []\n",
    "\n",
    "phi_photon_jet_NP    = []\n",
    "phi_photon_lepton_NP = []\n",
    "phi_lepton_jet_NP    = []\n",
    "\n",
    "phi_photon_jet_NP    = []\n",
    "phi_photon_lepton_NP = []\n",
    "phi_lepton_jet_NP    = []\n",
    "\n",
    "deltaR_photon_jet_NP    = []\n",
    "deltaR_photon_lepton_NP = []\n",
    "deltaR_lepton_jet_NP    = []\n",
    "\n",
    "for i in range(len(photon_NP)):\n",
    "    HT_main_NP.append( photon_NP[i][:,0] + lepton_NP[i][:,0] + jet_NP[i][:,0] )\n",
    "\n",
    "    MET_sig_NP.append( np.divide( MET_NP[i][:,0],np.sqrt(HT_main_NP[i]) ) )\n",
    "\n",
    "    m_eff_NP.append( MET_NP[i][:,0] + photon_NP[i][:,0] + lepton_NP[i][:,0] + jet_NP[i][:,0] )\n",
    "\n",
    "    phi_MET_photon_NP.append( np.absolute( MET_NP[i][:,2] - photon_NP[i][:,2] ) )\n",
    "    phi_MET_jet_NP.append( np.absolute( MET_NP[i][:,2] - jet_NP[i][:,2] ) )\n",
    "    phi_MET_lepton_NP.append( np.absolute( MET_NP[i][:,2] - lepton_NP[i][:,2] ) )\n",
    "\n",
    "    mT_photon_NP.append( np.sqrt( (2*photon_NP[i][:,0]*MET_NP[i][:,0]) * (1 - np.cos(phi_MET_photon_NP[i])) ) )\n",
    "    mT_jet_NP.append( np.sqrt( (2*jet_NP[i][:,0]*MET_NP[i][:,0]) * (1 - np.cos(phi_MET_jet_NP[i])) ) )\n",
    "    mT_lepton_NP.append( np.sqrt( (2*lepton_NP[i][:,0]*MET_NP[i][:,0]) * (1 - np.cos(phi_MET_lepton_NP[i])) ) )\n",
    "\n",
    "    phi_photon_jet_NP.append( np.absolute( photon_NP[i][:,2] - jet_NP[i][:,2] ) )\n",
    "    phi_photon_lepton_NP.append( np.absolute( photon_NP[i][:,2] - lepton_NP[i][:,2] ) )\n",
    "    phi_lepton_jet_NP.append( np.absolute( lepton_NP[i][:,2] - jet_NP[i][:,2] ) )\n",
    "\n",
    "    phi_photon_jet_NP[i][phi_photon_jet_NP[i] > np.pi]       = (2.* np.pi) - phi_photon_jet_NP[i][phi_photon_jet_NP[i] > np.pi]\n",
    "    phi_photon_lepton_NP[i][phi_photon_lepton_NP[i] > np.pi] = (2.* np.pi) - phi_photon_lepton_NP[i][phi_photon_lepton_NP[i] > np.pi]\n",
    "    phi_lepton_jet_NP[i][phi_lepton_jet_NP[i] > np.pi]       = (2.* np.pi) - phi_lepton_jet_NP[i][phi_lepton_jet_NP[i] > np.pi]\n",
    "\n",
    "    deltaR_photon_jet_NP.append( np.sqrt( (photon_NP[i][:,1]-jet_NP[i][:,1])**2 + (phi_photon_jet_NP[i])**2 ) )\n",
    "    deltaR_photon_lepton_NP.append( np.sqrt( (photon_NP[i][:,1]-lepton_NP[i][:,1])**2 + (phi_photon_lepton_NP[i])**2 ) )\n",
    "    deltaR_lepton_jet_NP.append( np.sqrt( (lepton_NP[i][:,1]-jet_NP[i][:,1])**2 + (phi_lepton_jet_NP[i])**2 ) )"
   ]
  },
  {
   "cell_type": "code",
   "execution_count": 13,
   "id": "1bb38b34-6b92-4a35-9da1-3479374c7728",
   "metadata": {},
   "outputs": [
    {
     "name": "stdout",
     "output_type": "stream",
     "text": [
      "(5892229, 4)\n",
      "(238160, 4)\n"
     ]
    }
   ],
   "source": [
    "print(photon_SM.shape)\n",
    "print(photon_NP[0].shape)"
   ]
  },
  {
   "cell_type": "markdown",
   "id": "609f9017-7832-4df8-8848-9986702010a2",
   "metadata": {
    "tags": []
   },
   "source": [
    "# Analysis"
   ]
  },
  {
   "cell_type": "code",
   "execution_count": 14,
   "id": "39ce5741-5a3e-41c3-8b68-b69408e4cba0",
   "metadata": {},
   "outputs": [
    {
     "name": "stdout",
     "output_type": "stream",
     "text": [
      "(5730945, 4)\n",
      "(5730945, 3)\n",
      "(5730945, 4)\n",
      "(5730945, 3)\n",
      "(5730945, 2)\n",
      "(5730945,)\n",
      "(5730945,)\n",
      "(5730945,)\n",
      "(5730945,)\n",
      "(5730945,)\n",
      "(5730945,)\n"
     ]
    }
   ],
   "source": [
    "# LOW LEVEL VARIABLES ----------------------\n",
    "# photon_SM[:,0] : PT\n",
    "# photon_SM[:,1] : eta\n",
    "# photon_SM[:,2] : phi\n",
    "\n",
    "print(photon_SM.shape)\n",
    "print(jet_SM.shape)\n",
    "print(lepton_SM.shape)\n",
    "print(MET_SM.shape)\n",
    "#-------------------------------------------\n",
    "\n",
    "# HIGH LEVEL VARIABLES ----------------------\n",
    "# hadinfo_SM[:,0] : hadinfo\n",
    "# hadinfo_SM[:,1] : number jets\n",
    "# HT_main_SM : had info total\n",
    "# MET_sig_SM : MET significace\n",
    "# m_eff_SM : Effective mass\n",
    "# mT_photon_SM : transverse mass\n",
    "print(hadinfo_SM.shape)\n",
    "print(HT_main_SM.shape)\n",
    "print(MET_sig_SM.shape)\n",
    "print(m_eff_SM.shape)\n",
    "print(mT_photon_SM.shape)\n",
    "print(mT_jet_SM.shape)\n",
    "print(mT_lepton_SM.shape)\n",
    "#-------------------------------------------"
   ]
  },
  {
   "cell_type": "code",
   "execution_count": 15,
   "id": "76eaa9e2-950a-4b6e-a05f-e509f0882845",
   "metadata": {},
   "outputs": [
    {
     "name": "stdout",
     "output_type": "stream",
     "text": [
      "(238160, 4)\n",
      "(238160, 3)\n",
      "(238160, 4)\n",
      "(238160, 3)\n",
      "(238160, 2)\n",
      "(238160,)\n",
      "(238160,)\n",
      "(238160,)\n",
      "(238160,)\n",
      "(238160,)\n",
      "(238160,)\n"
     ]
    }
   ],
   "source": [
    "# bp correspond to benchmark points (bp + 1) !!!!\n",
    "bp = 0\n",
    "\n",
    "# LOW LEVEL VARIABLES ----------------------\n",
    "# photon_NP[bp][:,0] : PT\n",
    "# photon_NP[bp][:,1] : eta\n",
    "# photon_NP[bp][:,2] : phi\n",
    "\n",
    "print(photon_NP[bp].shape)\n",
    "print(jet_NP[bp].shape)\n",
    "print(lepton_NP[bp].shape)\n",
    "print(MET_NP[bp].shape)\n",
    "#-------------------------------------------\n",
    "\n",
    "# HIGH LEVEL VARIABLES ----------------------\n",
    "# hadinfo_NP[bp][:,0] : hadinfo\n",
    "# hadinfo_NP[bp][:,1] : number jets\n",
    "# HT_main_NP[bp] : had info total\n",
    "# MET_sig_NP[bp] : MET significace\n",
    "# m_eff_NP[bp] : Effective mass\n",
    "# mT_photon_NP[bp] : transverse mass\n",
    "print(hadinfo_NP[bp].shape)\n",
    "print(HT_main_NP[bp].shape)\n",
    "print(MET_sig_NP[bp].shape)\n",
    "print(m_eff_NP[bp].shape)\n",
    "print(mT_photon_NP[bp].shape)\n",
    "print(mT_jet_NP[bp].shape)\n",
    "print(mT_lepton_NP[bp].shape)\n",
    "#-------------------------------------------"
   ]
  },
  {
   "cell_type": "code",
   "execution_count": 18,
   "id": "8907c232-3f9a-4ed6-ab2a-f5112ed58a8e",
   "metadata": {},
   "outputs": [
    {
     "data": {
      "text/html": [
       "<div>\n",
       "<style scoped>\n",
       "    .dataframe tbody tr th:only-of-type {\n",
       "        vertical-align: middle;\n",
       "    }\n",
       "\n",
       "    .dataframe tbody tr th {\n",
       "        vertical-align: top;\n",
       "    }\n",
       "\n",
       "    .dataframe thead th {\n",
       "        text-align: right;\n",
       "    }\n",
       "</style>\n",
       "<table border=\"1\" class=\"dataframe\">\n",
       "  <thead>\n",
       "    <tr style=\"text-align: right;\">\n",
       "      <th></th>\n",
       "      <th>photon $p_T$ [GeV]</th>\n",
       "      <th>photon $\\eta$</th>\n",
       "      <th>photon $\\phi$</th>\n",
       "      <th>num photon</th>\n",
       "      <th>jet $p_T$ [GeV]</th>\n",
       "      <th>jet $\\eta$</th>\n",
       "      <th>jet $\\phi$</th>\n",
       "      <th>lepton $p_T$ [GeV]</th>\n",
       "      <th>lepton $\\eta$</th>\n",
       "      <th>lepton $\\phi$</th>\n",
       "      <th>...</th>\n",
       "      <th>$m_T$ jet [GeV]</th>\n",
       "      <th>$m_T$ lepton [GeV]</th>\n",
       "      <th>$\\Delta \\phi$ (MET-photon)</th>\n",
       "      <th>$\\Delta \\phi$ (MET-jet)</th>\n",
       "      <th>$\\Delta \\phi$ (MET-lepton)</th>\n",
       "      <th>$\\Delta R$ (photon-jet)</th>\n",
       "      <th>$\\Delta R$ (photon-lepton)</th>\n",
       "      <th>$\\Delta R$ (lepton-jet)</th>\n",
       "      <th>bkg_flag</th>\n",
       "      <th>SM=0 - NP=1</th>\n",
       "    </tr>\n",
       "  </thead>\n",
       "  <tbody>\n",
       "    <tr>\n",
       "      <th>0</th>\n",
       "      <td>12.30</td>\n",
       "      <td>2.102</td>\n",
       "      <td>-2.640</td>\n",
       "      <td>1.0</td>\n",
       "      <td>277.40</td>\n",
       "      <td>0.309</td>\n",
       "      <td>-0.144</td>\n",
       "      <td>62.97</td>\n",
       "      <td>1.864</td>\n",
       "      <td>-3.091</td>\n",
       "      <td>...</td>\n",
       "      <td>508.208040</td>\n",
       "      <td>23.774707</td>\n",
       "      <td>0.258</td>\n",
       "      <td>2.754</td>\n",
       "      <td>0.193</td>\n",
       "      <td>3.073250</td>\n",
       "      <td>0.509946</td>\n",
       "      <td>3.332092</td>\n",
       "      <td>0.0</td>\n",
       "      <td>0.0</td>\n",
       "    </tr>\n",
       "    <tr>\n",
       "      <th>1</th>\n",
       "      <td>19.65</td>\n",
       "      <td>-0.034</td>\n",
       "      <td>2.512</td>\n",
       "      <td>1.0</td>\n",
       "      <td>284.92</td>\n",
       "      <td>-0.875</td>\n",
       "      <td>-0.986</td>\n",
       "      <td>151.82</td>\n",
       "      <td>-0.509</td>\n",
       "      <td>1.995</td>\n",
       "      <td>...</td>\n",
       "      <td>354.243591</td>\n",
       "      <td>72.508431</td>\n",
       "      <td>0.040</td>\n",
       "      <td>3.538</td>\n",
       "      <td>0.557</td>\n",
       "      <td>2.909388</td>\n",
       "      <td>0.702078</td>\n",
       "      <td>3.003384</td>\n",
       "      <td>0.0</td>\n",
       "      <td>0.0</td>\n",
       "    </tr>\n",
       "    <tr>\n",
       "      <th>2</th>\n",
       "      <td>14.88</td>\n",
       "      <td>1.119</td>\n",
       "      <td>-1.349</td>\n",
       "      <td>1.0</td>\n",
       "      <td>176.83</td>\n",
       "      <td>2.457</td>\n",
       "      <td>-0.259</td>\n",
       "      <td>37.05</td>\n",
       "      <td>0.929</td>\n",
       "      <td>-2.610</td>\n",
       "      <td>...</td>\n",
       "      <td>338.439394</td>\n",
       "      <td>73.104899</td>\n",
       "      <td>4.044</td>\n",
       "      <td>2.954</td>\n",
       "      <td>5.305</td>\n",
       "      <td>1.725788</td>\n",
       "      <td>1.275234</td>\n",
       "      <td>2.803923</td>\n",
       "      <td>0.0</td>\n",
       "      <td>0.0</td>\n",
       "    </tr>\n",
       "    <tr>\n",
       "      <th>3</th>\n",
       "      <td>62.71</td>\n",
       "      <td>-0.144</td>\n",
       "      <td>2.679</td>\n",
       "      <td>1.0</td>\n",
       "      <td>157.32</td>\n",
       "      <td>0.248</td>\n",
       "      <td>0.038</td>\n",
       "      <td>22.12</td>\n",
       "      <td>1.172</td>\n",
       "      <td>1.521</td>\n",
       "      <td>...</td>\n",
       "      <td>89.822819</td>\n",
       "      <td>47.418325</td>\n",
       "      <td>2.031</td>\n",
       "      <td>0.610</td>\n",
       "      <td>0.873</td>\n",
       "      <td>2.669934</td>\n",
       "      <td>1.752946</td>\n",
       "      <td>1.747302</td>\n",
       "      <td>0.0</td>\n",
       "      <td>0.0</td>\n",
       "    </tr>\n",
       "    <tr>\n",
       "      <th>4</th>\n",
       "      <td>24.21</td>\n",
       "      <td>1.212</td>\n",
       "      <td>1.649</td>\n",
       "      <td>1.0</td>\n",
       "      <td>204.53</td>\n",
       "      <td>0.983</td>\n",
       "      <td>-1.499</td>\n",
       "      <td>86.94</td>\n",
       "      <td>0.914</td>\n",
       "      <td>2.213</td>\n",
       "      <td>...</td>\n",
       "      <td>310.848302</td>\n",
       "      <td>68.078092</td>\n",
       "      <td>0.120</td>\n",
       "      <td>3.028</td>\n",
       "      <td>0.684</td>\n",
       "      <td>3.143537</td>\n",
       "      <td>0.637887</td>\n",
       "      <td>2.572111</td>\n",
       "      <td>0.0</td>\n",
       "      <td>0.0</td>\n",
       "    </tr>\n",
       "    <tr>\n",
       "      <th>...</th>\n",
       "      <td>...</td>\n",
       "      <td>...</td>\n",
       "      <td>...</td>\n",
       "      <td>...</td>\n",
       "      <td>...</td>\n",
       "      <td>...</td>\n",
       "      <td>...</td>\n",
       "      <td>...</td>\n",
       "      <td>...</td>\n",
       "      <td>...</td>\n",
       "      <td>...</td>\n",
       "      <td>...</td>\n",
       "      <td>...</td>\n",
       "      <td>...</td>\n",
       "      <td>...</td>\n",
       "      <td>...</td>\n",
       "      <td>...</td>\n",
       "      <td>...</td>\n",
       "      <td>...</td>\n",
       "      <td>...</td>\n",
       "      <td>...</td>\n",
       "    </tr>\n",
       "    <tr>\n",
       "      <th>5969100</th>\n",
       "      <td>45.67</td>\n",
       "      <td>0.262</td>\n",
       "      <td>-2.240</td>\n",
       "      <td>1.0</td>\n",
       "      <td>303.61</td>\n",
       "      <td>-1.577</td>\n",
       "      <td>1.250</td>\n",
       "      <td>25.54</td>\n",
       "      <td>-0.577</td>\n",
       "      <td>-0.883</td>\n",
       "      <td>...</td>\n",
       "      <td>529.762825</td>\n",
       "      <td>81.136708</td>\n",
       "      <td>0.246</td>\n",
       "      <td>3.244</td>\n",
       "      <td>1.111</td>\n",
       "      <td>3.344220</td>\n",
       "      <td>1.595422</td>\n",
       "      <td>2.355778</td>\n",
       "      <td>3.0</td>\n",
       "      <td>1.0</td>\n",
       "    </tr>\n",
       "    <tr>\n",
       "      <th>5969101</th>\n",
       "      <td>33.13</td>\n",
       "      <td>0.660</td>\n",
       "      <td>1.200</td>\n",
       "      <td>1.0</td>\n",
       "      <td>218.63</td>\n",
       "      <td>-1.530</td>\n",
       "      <td>-0.333</td>\n",
       "      <td>15.07</td>\n",
       "      <td>1.772</td>\n",
       "      <td>-2.669</td>\n",
       "      <td>...</td>\n",
       "      <td>345.330583</td>\n",
       "      <td>34.188115</td>\n",
       "      <td>1.641</td>\n",
       "      <td>3.174</td>\n",
       "      <td>5.510</td>\n",
       "      <td>2.673236</td>\n",
       "      <td>2.657976</td>\n",
       "      <td>4.044762</td>\n",
       "      <td>3.0</td>\n",
       "      <td>1.0</td>\n",
       "    </tr>\n",
       "    <tr>\n",
       "      <th>5969102</th>\n",
       "      <td>76.92</td>\n",
       "      <td>0.187</td>\n",
       "      <td>-1.864</td>\n",
       "      <td>1.0</td>\n",
       "      <td>227.64</td>\n",
       "      <td>-0.029</td>\n",
       "      <td>1.323</td>\n",
       "      <td>17.11</td>\n",
       "      <td>0.778</td>\n",
       "      <td>-0.086</td>\n",
       "      <td>...</td>\n",
       "      <td>389.024090</td>\n",
       "      <td>84.630336</td>\n",
       "      <td>0.052</td>\n",
       "      <td>3.239</td>\n",
       "      <td>1.830</td>\n",
       "      <td>3.103711</td>\n",
       "      <td>1.873650</td>\n",
       "      <td>1.623740</td>\n",
       "      <td>3.0</td>\n",
       "      <td>1.0</td>\n",
       "    </tr>\n",
       "    <tr>\n",
       "      <th>5969103</th>\n",
       "      <td>89.06</td>\n",
       "      <td>1.678</td>\n",
       "      <td>-1.271</td>\n",
       "      <td>1.0</td>\n",
       "      <td>193.55</td>\n",
       "      <td>0.503</td>\n",
       "      <td>2.000</td>\n",
       "      <td>17.80</td>\n",
       "      <td>2.123</td>\n",
       "      <td>1.301</td>\n",
       "      <td>...</td>\n",
       "      <td>349.474324</td>\n",
       "      <td>99.817258</td>\n",
       "      <td>0.116</td>\n",
       "      <td>3.155</td>\n",
       "      <td>2.456</td>\n",
       "      <td>3.233247</td>\n",
       "      <td>2.610212</td>\n",
       "      <td>1.764370</td>\n",
       "      <td>3.0</td>\n",
       "      <td>1.0</td>\n",
       "    </tr>\n",
       "    <tr>\n",
       "      <th>5969104</th>\n",
       "      <td>36.22</td>\n",
       "      <td>-0.009</td>\n",
       "      <td>-2.111</td>\n",
       "      <td>1.0</td>\n",
       "      <td>240.65</td>\n",
       "      <td>1.727</td>\n",
       "      <td>2.247</td>\n",
       "      <td>19.86</td>\n",
       "      <td>0.392</td>\n",
       "      <td>0.518</td>\n",
       "      <td>...</td>\n",
       "      <td>558.550457</td>\n",
       "      <td>82.708267</td>\n",
       "      <td>1.564</td>\n",
       "      <td>2.794</td>\n",
       "      <td>1.065</td>\n",
       "      <td>2.592303</td>\n",
       "      <td>2.659406</td>\n",
       "      <td>2.184414</td>\n",
       "      <td>3.0</td>\n",
       "      <td>1.0</td>\n",
       "    </tr>\n",
       "  </tbody>\n",
       "</table>\n",
       "<p>5969105 rows × 29 columns</p>\n",
       "</div>"
      ],
      "text/plain": [
       "         photon $p_T$ [GeV]  photon $\\eta$  photon $\\phi$  num photon  \\\n",
       "0                     12.30          2.102         -2.640         1.0   \n",
       "1                     19.65         -0.034          2.512         1.0   \n",
       "2                     14.88          1.119         -1.349         1.0   \n",
       "3                     62.71         -0.144          2.679         1.0   \n",
       "4                     24.21          1.212          1.649         1.0   \n",
       "...                     ...            ...            ...         ...   \n",
       "5969100               45.67          0.262         -2.240         1.0   \n",
       "5969101               33.13          0.660          1.200         1.0   \n",
       "5969102               76.92          0.187         -1.864         1.0   \n",
       "5969103               89.06          1.678         -1.271         1.0   \n",
       "5969104               36.22         -0.009         -2.111         1.0   \n",
       "\n",
       "         jet $p_T$ [GeV]  jet $\\eta$  jet $\\phi$  lepton $p_T$ [GeV]  \\\n",
       "0                 277.40       0.309      -0.144               62.97   \n",
       "1                 284.92      -0.875      -0.986              151.82   \n",
       "2                 176.83       2.457      -0.259               37.05   \n",
       "3                 157.32       0.248       0.038               22.12   \n",
       "4                 204.53       0.983      -1.499               86.94   \n",
       "...                  ...         ...         ...                 ...   \n",
       "5969100           303.61      -1.577       1.250               25.54   \n",
       "5969101           218.63      -1.530      -0.333               15.07   \n",
       "5969102           227.64      -0.029       1.323               17.11   \n",
       "5969103           193.55       0.503       2.000               17.80   \n",
       "5969104           240.65       1.727       2.247               19.86   \n",
       "\n",
       "         lepton $\\eta$  lepton $\\phi$  ...  $m_T$ jet [GeV]  \\\n",
       "0                1.864         -3.091  ...       508.208040   \n",
       "1               -0.509          1.995  ...       354.243591   \n",
       "2                0.929         -2.610  ...       338.439394   \n",
       "3                1.172          1.521  ...        89.822819   \n",
       "4                0.914          2.213  ...       310.848302   \n",
       "...                ...            ...  ...              ...   \n",
       "5969100         -0.577         -0.883  ...       529.762825   \n",
       "5969101          1.772         -2.669  ...       345.330583   \n",
       "5969102          0.778         -0.086  ...       389.024090   \n",
       "5969103          2.123          1.301  ...       349.474324   \n",
       "5969104          0.392          0.518  ...       558.550457   \n",
       "\n",
       "         $m_T$ lepton [GeV]  $\\Delta \\phi$ (MET-photon)  \\\n",
       "0                 23.774707                       0.258   \n",
       "1                 72.508431                       0.040   \n",
       "2                 73.104899                       4.044   \n",
       "3                 47.418325                       2.031   \n",
       "4                 68.078092                       0.120   \n",
       "...                     ...                         ...   \n",
       "5969100           81.136708                       0.246   \n",
       "5969101           34.188115                       1.641   \n",
       "5969102           84.630336                       0.052   \n",
       "5969103           99.817258                       0.116   \n",
       "5969104           82.708267                       1.564   \n",
       "\n",
       "         $\\Delta \\phi$ (MET-jet)  $\\Delta \\phi$ (MET-lepton)  \\\n",
       "0                          2.754                       0.193   \n",
       "1                          3.538                       0.557   \n",
       "2                          2.954                       5.305   \n",
       "3                          0.610                       0.873   \n",
       "4                          3.028                       0.684   \n",
       "...                          ...                         ...   \n",
       "5969100                    3.244                       1.111   \n",
       "5969101                    3.174                       5.510   \n",
       "5969102                    3.239                       1.830   \n",
       "5969103                    3.155                       2.456   \n",
       "5969104                    2.794                       1.065   \n",
       "\n",
       "         $\\Delta R$ (photon-jet)  $\\Delta R$ (photon-lepton)  \\\n",
       "0                       3.073250                    0.509946   \n",
       "1                       2.909388                    0.702078   \n",
       "2                       1.725788                    1.275234   \n",
       "3                       2.669934                    1.752946   \n",
       "4                       3.143537                    0.637887   \n",
       "...                          ...                         ...   \n",
       "5969100                 3.344220                    1.595422   \n",
       "5969101                 2.673236                    2.657976   \n",
       "5969102                 3.103711                    1.873650   \n",
       "5969103                 3.233247                    2.610212   \n",
       "5969104                 2.592303                    2.659406   \n",
       "\n",
       "         $\\Delta R$ (lepton-jet)  bkg_flag  SM=0 - NP=1  \n",
       "0                       3.332092       0.0          0.0  \n",
       "1                       3.003384       0.0          0.0  \n",
       "2                       2.803923       0.0          0.0  \n",
       "3                       1.747302       0.0          0.0  \n",
       "4                       2.572111       0.0          0.0  \n",
       "...                          ...       ...          ...  \n",
       "5969100                 2.355778       3.0          1.0  \n",
       "5969101                 4.044762       3.0          1.0  \n",
       "5969102                 1.623740       3.0          1.0  \n",
       "5969103                 1.764370       3.0          1.0  \n",
       "5969104                 2.184414       3.0          1.0  \n",
       "\n",
       "[5969105 rows x 29 columns]"
      ]
     },
     "execution_count": 18,
     "metadata": {},
     "output_type": "execute_result"
    }
   ],
   "source": [
    "df = pd.DataFrame()\n",
    "\n",
    "lst = ['photon $p_T$ [GeV]', 'photon $\\eta$', 'photon $\\phi$', 'num photon',\n",
    "       'jet $p_T$ [GeV]', 'jet $\\eta$', 'jet $\\phi$',\n",
    "       'lepton $p_T$ [GeV]', 'lepton $\\eta$', 'lepton $\\phi$', 'num lepton',\n",
    "       'MET $p_T$ [GeV]', 'MET $\\phi$',\n",
    "       '$H_T$ (had) [GeV]', 'num_jets',\n",
    "       '$H_T$ (main) [GeV]', 'MET sig [GeV]', '$m_{eff}$ [GeV]',\n",
    "       '$m_T$ photon [GeV]', '$m_T$ jet [GeV]', '$m_T$ lepton [GeV]',\n",
    "       '$\\Delta \\phi$ (MET-photon)', '$\\Delta \\phi$ (MET-jet)', '$\\Delta \\phi$ (MET-lepton)', \n",
    "       '$\\Delta R$ (photon-jet)', '$\\Delta R$ (photon-lepton)', '$\\Delta R$ (lepton-jet)', \n",
    "       'SM=0 - NP=1']\n",
    "\n",
    "df[lst[0]]= np.concatenate([photon_SM[:,0],photon_NP[bp][:,0]])\n",
    "df[lst[1]]= np.concatenate([photon_SM[:,1],photon_NP[bp][:,1]])\n",
    "df[lst[2]]= np.concatenate([photon_SM[:,2],photon_NP[bp][:,2]])\n",
    "df[lst[3]]= np.concatenate([photon_SM[:,3],photon_NP[bp][:,3]])\n",
    "\n",
    "df[lst[4]]= np.concatenate([jet_SM[:,0],jet_NP[bp][:,0]])\n",
    "df[lst[5]]= np.concatenate([jet_SM[:,1],jet_NP[bp][:,1]])\n",
    "df[lst[6]]= np.concatenate([jet_SM[:,2],jet_NP[bp][:,2]])\n",
    "\n",
    "df[lst[7]]= np.concatenate([lepton_SM[:,0],lepton_NP[bp][:,0]])\n",
    "df[lst[8]]= np.concatenate([lepton_SM[:,1],lepton_NP[bp][:,1]])\n",
    "df[lst[9]]= np.concatenate([lepton_SM[:,2],lepton_NP[bp][:,2]])\n",
    "df[lst[10]]= np.concatenate([lepton_SM[:,3],lepton_NP[bp][:,3]])\n",
    "\n",
    "df[lst[11]]= np.concatenate([MET_SM[:,0],MET_NP[bp][:,0]])\n",
    "df[lst[12]]= np.concatenate([MET_SM[:,2],MET_NP[bp][:,2]])\n",
    "\n",
    "df[lst[13]]= np.concatenate([hadinfo_SM[:,0],hadinfo_NP[bp][:,0]])\n",
    "df[lst[14]]= np.concatenate([hadinfo_SM[:,1],hadinfo_NP[bp][:,1]])\n",
    "\n",
    "df[lst[15]]= np.concatenate([HT_main_SM,HT_main_NP[bp][:]])\n",
    "df[lst[16]]= np.concatenate([MET_sig_SM,MET_sig_NP[bp][:]])\n",
    "df[lst[17]]= np.concatenate([m_eff_SM,m_eff_NP[bp][:]])\n",
    "\n",
    "df[lst[18]]= np.concatenate([mT_photon_SM,mT_photon_NP[bp][:]])\n",
    "df[lst[19]]= np.concatenate([mT_jet_SM,mT_jet_NP[bp][:]])\n",
    "df[lst[20]]= np.concatenate([mT_lepton_SM,mT_lepton_NP[bp][:]])\n",
    "\n",
    "df[lst[21]]= np.concatenate([phi_MET_photon_SM,phi_MET_photon_NP[bp][:]])\n",
    "df[lst[22]]= np.concatenate([phi_MET_jet_SM,phi_MET_jet_NP[bp][:]])\n",
    "df[lst[23]]= np.concatenate([phi_MET_lepton_SM,phi_MET_lepton_NP[bp][:]])\n",
    "\n",
    "df[lst[24]]= np.concatenate([deltaR_photon_jet_SM,deltaR_photon_jet_NP[bp][:]])\n",
    "df[lst[25]]= np.concatenate([deltaR_photon_lepton_SM,deltaR_photon_lepton_NP[bp][:]])\n",
    "df[lst[26]]= np.concatenate([deltaR_lepton_jet_SM,deltaR_lepton_jet_NP[bp][:]])\n",
    "\n",
    "\n",
    "df['bkg_flag']= np.concatenate([np.zeros(len(photon_NP[bp])),bkg_flag])\n",
    "\n",
    "df[lst[27]]= np.concatenate([np.zeros(len(photon_SM)),np.ones(len(photon_NP[bp][:]))])\n",
    "\n",
    "df_array = np.asarray(df)\n",
    "df"
   ]
  },
  {
   "cell_type": "code",
   "execution_count": 19,
   "id": "5326d67f-77d4-4f5c-b940-fade48318801",
   "metadata": {},
   "outputs": [
    {
     "data": {
      "text/plain": [
       "Index(['photon $p_T$ [GeV]', 'photon $\\eta$', 'photon $\\phi$', 'num photon',\n",
       "       'jet $p_T$ [GeV]', 'jet $\\eta$', 'jet $\\phi$', 'lepton $p_T$ [GeV]',\n",
       "       'lepton $\\eta$', 'lepton $\\phi$', 'num lepton', 'MET $p_T$ [GeV]',\n",
       "       'MET $\\phi$', '$H_T$ (had) [GeV]', 'num_jets', '$H_T$ (main) [GeV]',\n",
       "       'MET sig [GeV]', '$m_{eff}$ [GeV]', '$m_T$ photon [GeV]',\n",
       "       '$m_T$ jet [GeV]', '$m_T$ lepton [GeV]', '$\\Delta \\phi$ (MET-photon)',\n",
       "       '$\\Delta \\phi$ (MET-jet)', '$\\Delta \\phi$ (MET-lepton)',\n",
       "       '$\\Delta R$ (photon-jet)', '$\\Delta R$ (photon-lepton)',\n",
       "       '$\\Delta R$ (lepton-jet)', 'bkg_flag', 'SM=0 - NP=1'],\n",
       "      dtype='object')"
      ]
     },
     "execution_count": 19,
     "metadata": {},
     "output_type": "execute_result"
    }
   ],
   "source": [
    "df.columns"
   ]
  },
  {
   "cell_type": "code",
   "execution_count": 20,
   "id": "27645074-5c8b-456f-bae9-7bd142ea04c7",
   "metadata": {},
   "outputs": [
    {
     "data": {
      "text/plain": [
       "'$\\\\Delta \\\\phi$ (MET-photon)'"
      ]
     },
     "execution_count": 20,
     "metadata": {},
     "output_type": "execute_result"
    }
   ],
   "source": [
    "df.columns[21]"
   ]
  },
  {
   "cell_type": "code",
   "execution_count": 21,
   "id": "cf2ebf35-7958-4fc1-9e1f-ca7abe9ce95c",
   "metadata": {},
   "outputs": [
    {
     "data": {
      "text/plain": [
       "3739492"
      ]
     },
     "execution_count": 21,
     "metadata": {},
     "output_type": "execute_result"
    }
   ],
   "source": [
    "indices_cut = np.where( \n",
    "                        #(df_array[:,0] <= 200) & # photon $p_T$ [GeV]\n",
    "                        #(df_array[:,1] <= 200) & # photon $\\eta$ \n",
    "                        #(df_array[:,2] <= 200) & # photon $\\phi$\n",
    "                        #(df_array[:,3] <= 200) & # num photons\n",
    "                        #(df_array[:,4] <= 200) & # jet $p_T$ [GeV] \n",
    "                        #(df_array[:,5] <= 200) & # jet $\\eta$\n",
    "                        #(df_array[:,6] <= 200) & # jet $\\phi$\n",
    "                        (df_array[:,7] <= 200) & # lepton $p_T$ [GeV] \n",
    "                        #(df_array[:,8] <= 200) & # lepton $\\eta$\n",
    "                        #(df_array[:,9] <= 200) & # lepton $\\phi$\n",
    "                        #(df_array[:,10] <= 200) & # num leptons\n",
    "                        #(df_array[:,11] <= 200) & # MET $p_T$ [GeV]\n",
    "                        #(df_array[:,12] <= 200) & # MET $\\phi$ \n",
    "                        #(df_array[:,13] <= 3) #& # '$H_T$ (had) [GeV]'\n",
    "                        (df_array[:,14] <= 3) & # 'num_jets'\n",
    "                        #(df_array[:,15] <= 200) & # $H_T$ (main) [GeV] \n",
    "                        #(df_array[:,16] <= 200) & # MET sig [GeV]\n",
    "                        #(df_array[:,17] <= 200) & # $m_{eff}$ [GeV]\n",
    "                        #(df_array[:,18] <= 200) & # $m_T$ photon [GeV]\n",
    "                        #(df_array[:,19] <= 200) & # $m_T$ jet [GeV] \n",
    "                        #(df_array[:,20] <= 200) & # $m_T$ lepton [GeV]\n",
    "                        #(df_array[:,21] <= 200) & # $\\Delta \\phi$ (MET-photon) \n",
    "                        #(df_array[:,22] >= 200) & # $\\Delta \\phi$ (MET-jet)\n",
    "                        #(df_array[:,23] >= 10) & # $\\Delta \\phi$ (MET-lepton)\n",
    "                        #(df_array[:,24] >= 0) & # $\\Delta R$ (photon-jet)\n",
    "                        #(df_array[:,25] <= 350) & #$\\Delta R$ (photon-lepton)\n",
    "                        #(df_array[:,26] <= 3)  # $\\Delta R$ (lepton-jet) \n",
    "                        (df_array[:,10] <= 300)  # solo para no estar borrando los &\n",
    "                      )[0]\n",
    "len(indices_cut)"
   ]
  },
  {
   "cell_type": "code",
   "execution_count": 31,
   "id": "fc986b62-9c0b-4bd4-aaa0-55fc166bb494",
   "metadata": {},
   "outputs": [
    {
     "name": "stdout",
     "output_type": "stream",
     "text": [
      "Sobreviven 204163 del BP1\n",
      "Sobreviven 2964715 de W gamma\n",
      "Sobreviven 18962 de W jets\n",
      "Sobreviven 551652 de tt gamma\n",
      "Sobreviven 3535329 de Background\n"
     ]
    }
   ],
   "source": [
    "n_np = len(np.where(df_array[indices_cut,27] == 0)[0])\n",
    "\n",
    "n_wgamma  = len(np.where(df_array[indices_cut,27] == 1)[0])\n",
    "n_wjets   = len(np.where(df_array[indices_cut,27] == 2)[0])\n",
    "n_ttgamma = len(np.where(df_array[indices_cut,27] == 3)[0])\n",
    "\n",
    "n_sm = n_wgamma + n_wjets + n_ttgamma\n",
    "print('Sobreviven ' + str(n_np) + ' del BP' + str(bp+1))\n",
    "\n",
    "print('Sobreviven ' + str(n_wgamma) + ' de W gamma')\n",
    "print('Sobreviven ' + str(n_wjets) + ' de W jets')\n",
    "print('Sobreviven ' + str(n_ttgamma) + ' de tt gamma')\n",
    "print('Sobreviven ' + str(n_sm) + ' de Background')"
   ]
  },
  {
   "cell_type": "code",
   "execution_count": 14,
   "id": "4d1717e8-2d90-4e5c-8445-380d33390570",
   "metadata": {},
   "outputs": [],
   "source": [
    "ttgamma_cross = 0.144 * 1000 #[fb]\n",
    "ttgamma_NLO   = 1.46 # k-factor [14 TeV]\n",
    "\n",
    "Wgamma_cross = 0.944 * 1000 #[fb]\n",
    "Wgamma_NLO   = 2.37 # k-factor [14 TeV]\n",
    "\n",
    "Wjets_cross = 168.12 * 1000 #[fb]\n",
    "Wjets_NLO   = 1.27 # k-factor [14 TeV]"
   ]
  },
  {
   "cell_type": "code",
   "execution_count": 15,
   "id": "b2cfeb5b-8c9d-492c-884b-8fa22cc2dead",
   "metadata": {},
   "outputs": [
    {
     "ename": "NameError",
     "evalue": "name 'n_ttgamma' is not defined",
     "output_type": "error",
     "traceback": [
      "\u001b[0;31m---------------------------------------------------------------------------\u001b[0m",
      "\u001b[0;31mNameError\u001b[0m                                 Traceback (most recent call last)",
      "Input \u001b[0;32mIn [15]\u001b[0m, in \u001b[0;36m<cell line: 1>\u001b[0;34m()\u001b[0m\n\u001b[0;32m----> 1\u001b[0m ttgamma_aceptancia_init \u001b[38;5;241m=\u001b[39m \u001b[43mn_ttgamma\u001b[49m \u001b[38;5;241m/\u001b[39m (\u001b[38;5;241m100000\u001b[39m \u001b[38;5;241m*\u001b[39m \u001b[38;5;241m150\u001b[39m)\n\u001b[1;32m      2\u001b[0m wgamma_aceptancia_init \u001b[38;5;241m=\u001b[39m n_wgamma \u001b[38;5;241m/\u001b[39m (\u001b[38;5;241m100000\u001b[39m \u001b[38;5;241m*\u001b[39m \u001b[38;5;241m137\u001b[39m) \n\u001b[1;32m      3\u001b[0m wjets_aceptancia_init \u001b[38;5;241m=\u001b[39m n_wjets \u001b[38;5;241m/\u001b[39m (\u001b[38;5;241m100000\u001b[39m \u001b[38;5;241m*\u001b[39m \u001b[38;5;241m325\u001b[39m \u001b[38;5;241m+\u001b[39m \u001b[38;5;241m2000000\u001b[39m)\n",
      "\u001b[0;31mNameError\u001b[0m: name 'n_ttgamma' is not defined"
     ]
    }
   ],
   "source": [
    "ttgamma_aceptancia_init = n_ttgamma / (100000 * 150)\n",
    "wgamma_aceptancia_init = n_wgamma / (100000 * 137) \n",
    "wjets_aceptancia_init = n_wjets / (100000 * 325 + 2000000)"
   ]
  },
  {
   "cell_type": "code",
   "execution_count": 19,
   "id": "3c3d91de-c499-4ad5-8a9b-9eec1d7ab7e2",
   "metadata": {},
   "outputs": [
    {
     "name": "stdout",
     "output_type": "stream",
     "text": [
      "Esperamos 2876.4293952 tt gamma\n",
      "Esperamos 58446.31078773723 w gamma\n",
      "Esperamos 160446.21376695653 w jets\n"
     ]
    }
   ],
   "source": [
    "luminosidad = 100\n",
    "\n",
    "ttgamma_expected = ttgamma_cross * ttgamma_NLO * ttgamma_aceptancia_init * luminosidad\n",
    "wgamma_expected  = Wgamma_cross * Wgamma_NLO * wgamma_aceptancia_init * luminosidad\n",
    "wjets_expected   = Wjets_cross * Wjets_NLO * wjets_aceptancia_init * luminosidad\n",
    "\n",
    "print('Esperamos ' + str(ttgamma_expected) + ' tt gamma')\n",
    "print('Esperamos ' + str(wgamma_expected) + ' w gamma')\n",
    "print('Esperamos ' + str(wjets_expected) + ' w jets')"
   ]
  },
  {
   "cell_type": "code",
   "execution_count": 35,
   "id": "224c9205-a7bd-4d99-8fa0-ef9a22aa17d4",
   "metadata": {},
   "outputs": [],
   "source": [
    "cross_section_bps    = np.asarray([190, 189, 189, 92, 92, 92, 49, 48, 48, 27, 27, 27, 16, 16, 16])\n",
    "branching_ratios_bps = np.asarray([0.14, 0.37, 0.73, 0.15, 0.36, 0.67, 0.16, 0.36, 0.62, 0.17, 0.35, 0.58, 0.16, 0.32, 0.52])\n",
    "\n",
    "\n",
    "signal_init_sim_eve = np.asarray([836673,1e6,1.4e6,1e6,1e6,1e6,1e6,1e6,1e6,1e6,1e6,1e6,1e6,1e6,1e6])\n",
    "signal_cut_ev       = np.asarray([238160,246196,24249,301575,266047,203155,315960,280065,225958,326687,292051,244271,334782,301215,258277])"
   ]
  },
  {
   "cell_type": "code",
   "execution_count": 36,
   "id": "d28f5113-7c22-43fc-9e45-24df9a159863",
   "metadata": {},
   "outputs": [
    {
     "name": "stdout",
     "output_type": "stream",
     "text": [
      "fiducial cross section:  1.7314396121901867\n",
      "Events expected:  173.14396121901868\n"
     ]
    }
   ],
   "source": [
    "signal_cross        = cross_section_bps[bp] * branching_ratios_bps[bp] * 0.2134 # fb \n",
    "#El 0.2134 es suma de los partial widths del W a muon y a electron\n",
    "signal_NLO          = 1.25\n",
    "\n",
    "cross       = signal_cross * signal_NLO\n",
    "aceptancia  = n_np / signal_init_sim_eve[bp]\n",
    "\n",
    "signal_fidcross = cross * aceptancia\n",
    "S_expected = cross * aceptancia * luminosidad\n",
    "\n",
    "print('fiducial cross section: ', signal_fidcross)\n",
    "print('Events expected: ', S_expected)"
   ]
  },
  {
   "cell_type": "code",
   "execution_count": 37,
   "id": "a9469eec-c9be-4f2a-9bcc-1f4338c0c0c1",
   "metadata": {},
   "outputs": [
    {
     "data": {
      "text/plain": [
       "0.7014785854252812"
      ]
     },
     "execution_count": 37,
     "metadata": {},
     "output_type": "execute_result"
    }
   ],
   "source": [
    "# Formula naive\n",
    "S_expected / np.sqrt(ttgamma_expected + wgamma_expected + wjets_expected)"
   ]
  },
  {
   "cell_type": "code",
   "execution_count": 38,
   "id": "8fe0fe85-7d3a-4aa2-9300-c597ee71ae07",
   "metadata": {},
   "outputs": [
    {
     "data": {
      "text/plain": [
       "0.7011467132183254"
      ]
     },
     "execution_count": 38,
     "metadata": {},
     "output_type": "execute_result"
    }
   ],
   "source": [
    "# Formula discovery\n",
    "B_expected = ttgamma_expected + wgamma_expected + wjets_expected\n",
    "np.sqrt(2 * ((B_expected + S_expected) * np.log(1 + S_expected / B_expected) - S_expected))"
   ]
  },
  {
   "cell_type": "markdown",
   "id": "d221bce5-3ba3-49da-b15d-7ffd987e0f35",
   "metadata": {},
   "source": [
    "# Automatic cuts"
   ]
  },
  {
   "cell_type": "code",
   "execution_count": 15,
   "id": "6a347cc4-30f2-4439-9e4d-50b6c855fbe4",
   "metadata": {},
   "outputs": [],
   "source": [
    "bp = 1\n",
    "df = pd.DataFrame()\n",
    "\n",
    "\n",
    "lst = ['photon $p_T$ [GeV]', 'photon $\\eta$', 'photon $\\phi$', 'num photon',\n",
    "       'jet $p_T$ [GeV]', 'jet $\\eta$', 'jet $\\phi$',\n",
    "       'lepton $p_T$ [GeV]', 'lepton $\\eta$', 'lepton $\\phi$', 'num lepton',\n",
    "       'MET $p_T$ [GeV]', 'MET $\\phi$',\n",
    "       '$H_T$ (had) [GeV]', 'num_jets',\n",
    "       '$H_T$ (main) [GeV]', 'MET sig [GeV]', '$m_{eff}$ [GeV]',\n",
    "       '$m_T$ photon [GeV]', '$m_T$ jet [GeV]', '$m_T$ lepton [GeV]',\n",
    "       '$\\Delta \\phi$ (MET-photon)', '$\\Delta \\phi$ (MET-jet)', '$\\Delta \\phi$ (MET-lepton)', \n",
    "       '$\\Delta R$ (photon-jet)', '$\\Delta R$ (photon-lepton)', '$\\Delta R$ (lepton-jet)', \n",
    "       'SM=0 - NP=1']\n",
    "\n",
    "df[lst[0]]= np.concatenate([photon_SM[:,0],photon_NP[bp][:,0]])\n",
    "df[lst[1]]= np.concatenate([photon_SM[:,1],photon_NP[bp][:,1]])\n",
    "df[lst[2]]= np.concatenate([photon_SM[:,2],photon_NP[bp][:,2]])\n",
    "df[lst[3]]= np.concatenate([photon_SM[:,3],photon_NP[bp][:,3]])\n",
    "\n",
    "df[lst[4]]= np.concatenate([jet_SM[:,0],jet_NP[bp][:,0]])\n",
    "df[lst[5]]= np.concatenate([jet_SM[:,1],jet_NP[bp][:,1]])\n",
    "df[lst[6]]= np.concatenate([jet_SM[:,2],jet_NP[bp][:,2]])\n",
    "\n",
    "df[lst[7]]= np.concatenate([lepton_SM[:,0],lepton_NP[bp][:,0]])\n",
    "df[lst[8]]= np.concatenate([lepton_SM[:,1],lepton_NP[bp][:,1]])\n",
    "df[lst[9]]= np.concatenate([lepton_SM[:,2],lepton_NP[bp][:,2]])\n",
    "df[lst[10]]= np.concatenate([lepton_SM[:,3],lepton_NP[bp][:,3]])\n",
    "\n",
    "df[lst[11]]= np.concatenate([MET_SM[:,0],MET_NP[bp][:,0]])\n",
    "df[lst[12]]= np.concatenate([MET_SM[:,2],MET_NP[bp][:,2]])\n",
    "\n",
    "df[lst[13]]= np.concatenate([hadinfo_SM[:,0],hadinfo_NP[bp][:,0]])\n",
    "df[lst[14]]= np.concatenate([hadinfo_SM[:,1],hadinfo_NP[bp][:,1]])\n",
    "\n",
    "df[lst[15]]= np.concatenate([HT_main_SM,HT_main_NP[bp][:]])\n",
    "df[lst[16]]= np.concatenate([MET_sig_SM,MET_sig_NP[bp][:]])\n",
    "df[lst[17]]= np.concatenate([m_eff_SM,m_eff_NP[bp][:]])\n",
    "\n",
    "df[lst[18]]= np.concatenate([mT_photon_SM,mT_photon_NP[bp][:]])\n",
    "df[lst[19]]= np.concatenate([mT_jet_SM,mT_jet_NP[bp][:]])\n",
    "df[lst[20]]= np.concatenate([mT_lepton_SM,mT_lepton_NP[bp][:]])\n",
    "\n",
    "df[lst[21]]= np.concatenate([phi_MET_photon_SM,phi_MET_photon_NP[bp][:]])\n",
    "df[lst[22]]= np.concatenate([phi_MET_jet_SM,phi_MET_jet_NP[bp][:]])\n",
    "df[lst[23]]= np.concatenate([phi_MET_lepton_SM,phi_MET_lepton_NP[bp][:]])\n",
    "\n",
    "df[lst[24]]= np.concatenate([deltaR_photon_jet_SM,deltaR_photon_jet_NP[bp][:]])\n",
    "df[lst[25]]= np.concatenate([deltaR_photon_lepton_SM,deltaR_photon_lepton_NP[bp][:]])\n",
    "df[lst[26]]= np.concatenate([deltaR_lepton_jet_SM,deltaR_lepton_jet_NP[bp][:]])\n",
    "\n",
    "\n",
    "df['bkg_flag']= np.concatenate([np.zeros(len(photon_NP[bp])),bkg_flag])\n",
    "\n",
    "df[lst[27]]= np.concatenate([np.zeros(len(photon_SM)),np.ones(len(photon_NP[bp][:]))])\n",
    "\n",
    "df_array = np.asarray(df)"
   ]
  },
  {
   "cell_type": "code",
   "execution_count": 16,
   "id": "050b01cd-31dd-4f6b-b087-196df054703c",
   "metadata": {},
   "outputs": [],
   "source": [
    "cross_section_bps    = np.asarray([190, 189, 189, 92, 92, 92, 49, 48, 48, 27, 27, 27, 16, 16, 16])\n",
    "branching_ratios_bps = np.asarray([0.14, 0.37, 0.73, 0.15, 0.36, 0.67, 0.16, 0.36, 0.62, 0.17, 0.35, 0.58, 0.16, 0.32, 0.52])\n",
    "\n",
    "\n",
    "signal_init_sim_eve = np.asarray([836673,1e6,1.4e6,1e6,1e6,1e6,1e6,1e6,1e6,1e6,1e6,1e6,1e6,1e6,1e6])\n",
    "signal_cut_ev       = np.asarray([238160,246196,24249,301575,266047,203155,315960,280065,225958,326687,292051,244271,334782,301215,258277])\n",
    "\n",
    "signal_cross        = cross_section_bps[bp] * branching_ratios_bps[bp] * 0.2134 # fb \n",
    "#El 0.2134 es suma de los partial widths del W a muon y a electron\n",
    "signal_NLO          = 1.25\n",
    "\n",
    "cross = signal_cross * signal_NLO"
   ]
  },
  {
   "cell_type": "code",
   "execution_count": 27,
   "id": "7203c0c3-5d22-46e9-938d-962b97084d92",
   "metadata": {},
   "outputs": [
    {
     "name": "stdout",
     "output_type": "stream",
     "text": [
      "$H_T$ (main) [GeV] <= 4507.365555555555; Z = 0.9747136617796793\n",
      "MET $\\phi$ <= 3.142; Z = 0.9747136617796793\n",
      "photon $\\phi$ <= 3.142; Z = 0.9747136617796793\n",
      "$\\Delta R$ (lepton-jet) <= 4.17858158245534; Z = 0.97611940116879\n",
      "$H_T$ (main) [GeV] <= 4490.290000000001; Z = 0.97611940116879\n",
      "jet $p_T$ [GeV] <= 681.0722222222222; Z = 0.9772421207731179\n",
      "$\\Delta \\phi$ (MET-lepton) <= 6.279999999999999; Z = 0.9772421207731179\n",
      "num_jets <= 2.666666666666667; Z = 1.3715864809309641\n",
      "$\\Delta R$ (photon-jet) <= 6.109305121582637; Z = 1.371599667346906\n",
      "jet $\\eta$ <= 4.447; Z = 1.371599667346906\n",
      "$m_T$ photon [GeV] <= 1780.3297131593195; Z = 1.37160144853898\n",
      "MET $p_T$ [GeV] <= 936.72; Z = 1.371602809145103\n",
      "MET $\\phi$ <= 3.142; Z = 1.371602809145103\n",
      "jet $\\eta$ <= 4.447; Z = 1.371602809145103\n",
      "num photon <= 2.0; Z = 1.3716255431988682\n",
      "MET $p_T$ [GeV] <= 916.6; Z = 1.3716255431988682\n",
      "lepton $p_T$ [GeV] <= 668.1688888888889; Z = 1.3716546441712003\n",
      "$H_T$ (main) [GeV] <= 1464.6666666666667; Z = 1.371704623189818\n",
      "lepton $\\eta$ <= 2.5; Z = 1.371704623189818\n",
      "photon $\\eta$ <= 2.369; Z = 1.371704623189818\n",
      "$H_T$ (main) [GeV] <= 1464.32; Z = 1.371704623189818\n",
      "lepton $\\eta$ <= 2.5; Z = 1.371704623189818\n",
      "lepton $p_T$ [GeV] <= 594.9155555555556; Z = 1.3717102300319357\n",
      "lepton $\\phi$ <= 3.142; Z = 1.3717102300319357\n",
      "$m_T$ lepton [GeV] <= 113.90635877950581; Z = 1.3846269568339549\n",
      "$\\Delta \\phi$ (MET-photon) <= 6.281; Z = 1.3846269568339549\n",
      "$\\Delta \\phi$ (MET-photon) <= 6.281; Z = 1.3846269568339549\n",
      "MET $p_T$ [GeV] <= 916.6; Z = 1.3846269568339549\n",
      "$m_T$ photon [GeV] <= 1742.5474235202296; Z = 1.3846269568339549\n",
      "$H_T$ (had) [GeV] <= 641.4277777777778; Z = 1.3876371761788497\n",
      "lepton $p_T$ [GeV] <= 593.82; Z = 1.3876371761788497\n",
      "$m_T$ photon [GeV] <= 1742.5474235202296; Z = 1.3876371761788497\n",
      "jet $\\phi$ <= 3.142; Z = 1.3876371761788497\n",
      "$H_T$ (had) [GeV] <= 641.42; Z = 1.3876371761788497\n",
      "$H_T$ (main) [GeV] <= 1464.32; Z = 1.3876371761788497\n",
      "$\\Delta \\phi$ (MET-lepton) <= 6.279999999999999; Z = 1.3876371761788497\n",
      "$\\Delta R$ (photon-jet) <= 6.10142544048846; Z = 1.3876371761788497\n",
      "$\\Delta \\phi$ (MET-lepton) <= 6.279999999999999; Z = 1.3876371761788497\n",
      "jet $\\eta$ <= 4.447; Z = 1.3876371761788497\n",
      "jet $\\phi$ <= 3.142; Z = 1.3876371761788497\n",
      "jet $p_T$ [GeV] <= 641.42; Z = 1.3876371761788497\n",
      "lepton $\\phi$ <= 3.142; Z = 1.3876371761788497\n",
      "photon $\\phi$ <= 3.142; Z = 1.3876371761788497\n",
      "photon $\\eta$ <= 2.369; Z = 1.3876371761788497\n",
      "num lepton <= 1.0; Z = 1.3909840737247157\n",
      "jet $p_T$ [GeV] <= 641.42; Z = 1.3909840737247157\n",
      "lepton $\\eta$ <= 2.5; Z = 1.3909840737247157\n",
      "$m_T$ photon [GeV] <= 1742.5474235202296; Z = 1.3909840737247157\n",
      "photon $\\phi$ <= 3.142; Z = 1.3909840737247157\n",
      "num_jets <= 2.0; Z = 1.3909840737247157\n",
      "\n",
      "\n",
      "Z =  1.3909840737247157\n",
      "Expected Background = 49815.119655262206\n",
      "Expected Signal = 310.780227681\n"
     ]
    }
   ],
   "source": [
    "nbins = 10\n",
    "indices_aux = np.arange(len(df_array))\n",
    "sup_cuts = {}\n",
    "inf_cuts = {}\n",
    "random_vars = np.random.choice(range(27), size = 50, replace = True)\n",
    "\n",
    "for ivar in random_vars:\n",
    "    #print(df.columns[ivar])\n",
    "    cuts = np.linspace(np.min(df_array[indices_aux,ivar]), np.max(df_array[indices_aux,ivar]), nbins)\n",
    "    Z_sup = np.zeros(nbins)\n",
    "    Z_inf = np.zeros(nbins)\n",
    "    #%print(np.min(df_array[indices_aux,ivar]))\n",
    "    #%print(np.max(df_array[indices_aux,ivar]))\n",
    "    #print(len(indices_aux))\n",
    "\n",
    "    for icut, cut in enumerate(cuts): \n",
    "        \n",
    "        # Superior ------------------------------------------------------------------------------------\n",
    "        indices_sup = indices_aux[np.where( (df_array[indices_aux,ivar] >= cut) )[0]]\n",
    "        #if icut == 0: indices_sup = indices_aux\n",
    "        \n",
    "        n_np      = len(np.where(df_array[indices_sup, 27] == 0)[0])\n",
    "        n_wgamma  = len(np.where(df_array[indices_sup, 27] == 1)[0])\n",
    "        n_wjets   = len(np.where(df_array[indices_sup, 27] == 2)[0])\n",
    "        n_ttgamma = len(np.where(df_array[indices_sup, 27] == 3)[0])\n",
    "\n",
    "        ttgamma_expected = ttgamma_cross * ttgamma_NLO * (n_ttgamma / (100000 * 150)) * luminosidad\n",
    "        wgamma_expected  = Wgamma_cross * Wgamma_NLO * (n_wgamma / (100000 * 137) ) * luminosidad\n",
    "        wjets_expected   = Wjets_cross * Wjets_NLO * (n_wjets / (100000 * 325 + 2000000)) * luminosidad\n",
    "\n",
    "        S_expected = cross * (n_np / signal_init_sim_eve[bp]) * luminosidad\n",
    "\n",
    "        # Formula discovery\n",
    "        B_expected = ttgamma_expected + wgamma_expected + wjets_expected\n",
    "        if B_expected > 5: Z_sup[icut] = np.sqrt(2 * ((B_expected + S_expected) * np.log(1 + S_expected / B_expected) - S_expected))\n",
    "        #%print('var >= ' + str(cut) + '=' + str(len(indices_sup)) + ' z = ' + str(Z_sup[icut]))\n",
    "        #%print('np >=' + str(n_np))\n",
    "        #%print('wgamma >=' + str(n_wgamma))\n",
    "        #%print('ttgamma >=' + str(n_ttgamma))\n",
    "        #%print('wjets >=' + str(n_wjets))\n",
    "\n",
    "        #----------------------------------------------------------------------------------------------------\n",
    "\n",
    "        # Inferior ------------------------------------------------------------------------------------\n",
    "        indices_inf = indices_aux[np.where( (df_array[indices_aux,ivar] <= cut) )[0]]\n",
    "        if icut == (nbins - 1): indices_inf = indices_aux\n",
    "        n_np      = len(np.where(df_array[indices_inf, 27] == 0)[0])\n",
    "        n_wgamma  = len(np.where(df_array[indices_inf, 27] == 1)[0])\n",
    "        n_wjets   = len(np.where(df_array[indices_inf, 27] == 2)[0])\n",
    "        n_ttgamma = len(np.where(df_array[indices_inf, 27] == 3)[0])\n",
    "\n",
    "        ttgamma_expected = ttgamma_cross * ttgamma_NLO * (n_ttgamma / (100000 * 150)) * luminosidad\n",
    "        wgamma_expected  = Wgamma_cross * Wgamma_NLO * (n_wgamma / (100000 * 137) ) * luminosidad\n",
    "        wjets_expected   = Wjets_cross * Wjets_NLO * (n_wjets / (100000 * 325 + 2000000)) * luminosidad\n",
    "\n",
    "        S_expected = cross * (n_np / signal_init_sim_eve[bp]) * luminosidad\n",
    "\n",
    "        # Formula discovery\n",
    "        B_expected = ttgamma_expected + wgamma_expected + wjets_expected\n",
    "        if B_expected > 5: Z_inf[icut] = np.sqrt(2 * ((B_expected + S_expected) * np.log(1 + S_expected / B_expected) - S_expected))\n",
    "        #%print('var <= ' + str(cut) + '=' + str(len(indices_inf)) + ' z = ' + str(Z_inf[icut]))\n",
    "        #%print('np >=' + str(n_np))\n",
    "        #%print('wgamma >=' + str(n_wgamma))\n",
    "        #%print('ttgamma >=' + str(n_ttgamma))\n",
    "        #%print('wjets >=' + str(n_wjets))\n",
    "\n",
    "        #----------------------------------------------------------------------------------------------------\n",
    "\n",
    "    max_cut = np.argmax((Z_inf, Z_sup))\n",
    "    #%print(Z_inf)\n",
    "    #%print(Z_sup)\n",
    "    if max_cut >= len(Z_inf):\n",
    "        print(df.columns[ivar] + ' >= ' + str(cuts[max_cut - len(Z_sup)]) + '; Z = ' + str(Z_sup[max_cut - len(Z_inf)]))\n",
    "        indices_aux = indices_aux[np.where( (df_array[indices_aux,ivar] >= cuts[max_cut - len(Z_sup)]) )[0]]\n",
    "        if df.columns[ivar] in inf_cuts.keys():\n",
    "            inf_cuts[df.columns[ivar]] = cuts[max_cut - len(Z_sup)]\n",
    "        inf_cuts.setdefault(df.columns[ivar], cuts[max_cut - len(Z_sup)])\n",
    "        sup_cuts.setdefault(df.columns[ivar], 999999)\n",
    "    else:\n",
    "        print(df.columns[ivar] + ' <= ' + str(cuts[max_cut]) + '; Z = ' + str(Z_inf[max_cut]))\n",
    "        indices_aux = indices_aux[np.where( (df_array[indices_aux,ivar] <= cuts[max_cut]) )[0]]\n",
    "        if df.columns[ivar] in sup_cuts.keys():\n",
    "            sup_cuts[df.columns[ivar]] = cuts[max_cut]\n",
    "        sup_cuts.setdefault(df.columns[ivar], cuts[max_cut])\n",
    "        inf_cuts.setdefault(df.columns[ivar], -999999)\n",
    "    \n",
    "    #print(len(indices_aux))       \n",
    "    \n",
    "    \n",
    "    \n",
    "    \n",
    "n_np = len(np.where(df_array[indices_aux, 27] == 0)[0])\n",
    "\n",
    "n_wgamma  = len(np.where(df_array[indices_aux, 27] == 1)[0])\n",
    "n_wjets   = len(np.where(df_array[indices_aux, 27] == 2)[0])\n",
    "n_ttgamma = len(np.where(df_array[indices_aux, 27] == 3)[0])\n",
    "\n",
    "ttgamma_expected = ttgamma_cross * ttgamma_NLO * (n_ttgamma / (100000 * 150)) * luminosidad\n",
    "wgamma_expected  = Wgamma_cross * Wgamma_NLO * (n_wgamma / (100000 * 137) ) * luminosidad\n",
    "wjets_expected   = Wjets_cross * Wjets_NLO * (n_wjets / (100000 * 325 + 2000000)) * luminosidad\n",
    "\n",
    "S_expected = cross * (n_np / signal_init_sim_eve[bp]) * luminosidad\n",
    "\n",
    "# Formula discovery\n",
    "B_expected = ttgamma_expected + wgamma_expected + wjets_expected\n",
    "if B_expected > 5: \n",
    "    print('\\n')\n",
    "    print('Z = ', np.sqrt(2 * ((B_expected + S_expected) * np.log(1 + S_expected / B_expected) - S_expected)))\n",
    "    print('Expected Background = ' + str(B_expected))\n",
    "    print('Expected Signal = ' + str(S_expected))"
   ]
  },
  {
   "cell_type": "code",
   "execution_count": 28,
   "id": "0d6c811b-1c6c-4c46-8444-1726e30ca7dc",
   "metadata": {},
   "outputs": [
    {
     "data": {
      "text/plain": [
       "{'$H_T$ (main) [GeV]': -999999,\n",
       " 'MET $\\\\phi$': -999999,\n",
       " 'photon $\\\\phi$': -999999,\n",
       " '$\\\\Delta R$ (lepton-jet)': -999999,\n",
       " 'jet $p_T$ [GeV]': -999999,\n",
       " '$\\\\Delta \\\\phi$ (MET-lepton)': -999999,\n",
       " 'num_jets': -999999,\n",
       " '$\\\\Delta R$ (photon-jet)': -999999,\n",
       " 'jet $\\\\eta$': -999999,\n",
       " '$m_T$ photon [GeV]': -999999,\n",
       " 'MET $p_T$ [GeV]': -999999,\n",
       " 'num photon': -999999,\n",
       " 'lepton $p_T$ [GeV]': -999999,\n",
       " 'lepton $\\\\eta$': -999999,\n",
       " 'photon $\\\\eta$': -999999,\n",
       " 'lepton $\\\\phi$': -999999,\n",
       " '$m_T$ lepton [GeV]': -999999,\n",
       " '$\\\\Delta \\\\phi$ (MET-photon)': -999999,\n",
       " '$H_T$ (had) [GeV]': -999999,\n",
       " 'jet $\\\\phi$': -999999,\n",
       " 'num lepton': -999999}"
      ]
     },
     "execution_count": 28,
     "metadata": {},
     "output_type": "execute_result"
    }
   ],
   "source": [
    "inf_cuts"
   ]
  },
  {
   "cell_type": "code",
   "execution_count": 29,
   "id": "a8a5268c-b20d-4591-b631-fbbb2ef99a8b",
   "metadata": {},
   "outputs": [
    {
     "data": {
      "text/plain": [
       "{'$H_T$ (main) [GeV]': 1464.32,\n",
       " 'MET $\\\\phi$': 3.142,\n",
       " 'photon $\\\\phi$': 3.142,\n",
       " '$\\\\Delta R$ (lepton-jet)': 4.17858158245534,\n",
       " 'jet $p_T$ [GeV]': 641.42,\n",
       " '$\\\\Delta \\\\phi$ (MET-lepton)': 6.279999999999999,\n",
       " 'num_jets': 2.0,\n",
       " '$\\\\Delta R$ (photon-jet)': 6.10142544048846,\n",
       " 'jet $\\\\eta$': 4.447,\n",
       " '$m_T$ photon [GeV]': 1742.5474235202296,\n",
       " 'MET $p_T$ [GeV]': 916.6,\n",
       " 'num photon': 2.0,\n",
       " 'lepton $p_T$ [GeV]': 593.82,\n",
       " 'lepton $\\\\eta$': 2.5,\n",
       " 'photon $\\\\eta$': 2.369,\n",
       " 'lepton $\\\\phi$': 3.142,\n",
       " '$m_T$ lepton [GeV]': 113.90635877950581,\n",
       " '$\\\\Delta \\\\phi$ (MET-photon)': 6.281,\n",
       " '$H_T$ (had) [GeV]': 641.42,\n",
       " 'jet $\\\\phi$': 3.142,\n",
       " 'num lepton': 1.0}"
      ]
     },
     "execution_count": 29,
     "metadata": {},
     "output_type": "execute_result"
    }
   ],
   "source": [
    "sup_cuts"
   ]
  },
  {
   "cell_type": "code",
   "execution_count": 48,
   "id": "2309ba70-13a2-46e7-aeaa-0203e78a8670",
   "metadata": {},
   "outputs": [
    {
     "data": {
      "text/plain": [
       "15"
      ]
     },
     "execution_count": 48,
     "metadata": {},
     "output_type": "execute_result"
    }
   ],
   "source": [
    "np.where(df.columns == variables[i])[0][0]"
   ]
  },
  {
   "cell_type": "code",
   "execution_count": 49,
   "id": "df6bd4e4-d774-4c1f-8fba-a4e13190ac75",
   "metadata": {},
   "outputs": [],
   "source": [
    "indices_aux = np.arange(len(df_array))\n",
    "\n",
    "variables = list(sup_cuts.keys())\n",
    "for i in range(len(variables)):\n",
    "    ind_var = np.where(df.columns == variables[i])[0][0]\n",
    "    indices_aux = indices_aux[np.where( (df_array[indices_aux, ind_var] <= sup_cuts[variables[i]]) & \n",
    "                            (df_array[indices_aux, ind_var] > inf_cuts[variables[i]])\n",
    "                           )[0]]\n"
   ]
  },
  {
   "cell_type": "code",
   "execution_count": 50,
   "id": "2a281402-6567-42d8-8ec3-eb6780c50599",
   "metadata": {},
   "outputs": [
    {
     "data": {
      "text/plain": [
       "6138425"
      ]
     },
     "execution_count": 50,
     "metadata": {},
     "output_type": "execute_result"
    }
   ],
   "source": [
    "len(df_array)"
   ]
  },
  {
   "cell_type": "code",
   "execution_count": 51,
   "id": "68d06d00-313f-417c-ba52-5cc44865a388",
   "metadata": {},
   "outputs": [
    {
     "data": {
      "text/plain": [
       "2787978"
      ]
     },
     "execution_count": 51,
     "metadata": {},
     "output_type": "execute_result"
    }
   ],
   "source": [
    "len(indices_aux)"
   ]
  },
  {
   "cell_type": "code",
   "execution_count": 52,
   "id": "9581b41b-3c3a-450e-b5a1-cd7516a21e7e",
   "metadata": {},
   "outputs": [
    {
     "name": "stdout",
     "output_type": "stream",
     "text": [
      "1.3909840737247157\n"
     ]
    }
   ],
   "source": [
    "n_np = len(np.where(df_array[indices_aux, 27] == 0)[0])\n",
    "\n",
    "n_wgamma  = len(np.where(df_array[indices_aux, 27] == 1)[0])\n",
    "n_wjets   = len(np.where(df_array[indices_aux, 27] == 2)[0])\n",
    "n_ttgamma = len(np.where(df_array[indices_aux, 27] == 3)[0])\n",
    "\n",
    "ttgamma_expected = ttgamma_cross * ttgamma_NLO * (n_ttgamma / (100000 * 150)) * luminosidad\n",
    "wgamma_expected  = Wgamma_cross * Wgamma_NLO * (n_wgamma / (100000 * 137) ) * luminosidad\n",
    "wjets_expected   = Wjets_cross * Wjets_NLO * (n_wjets / (100000 * 325 + 2000000)) * luminosidad\n",
    "\n",
    "S_expected = cross * (n_np / signal_init_sim_eve[bp]) * luminosidad\n",
    "\n",
    "# Formula discovery\n",
    "B_expected = ttgamma_expected + wgamma_expected + wjets_expected\n",
    "if B_expected > 5: \n",
    "    print(np.sqrt(2 * ((B_expected + S_expected) * np.log(1 + S_expected / B_expected) - S_expected)))\n"
   ]
  },
  {
   "cell_type": "code",
   "execution_count": 53,
   "id": "614a529e-f85d-4ec8-afa8-c31776ccc356",
   "metadata": {},
   "outputs": [
    {
     "data": {
      "text/plain": [
       "310.780227681"
      ]
     },
     "execution_count": 53,
     "metadata": {},
     "output_type": "execute_result"
    }
   ],
   "source": [
    "S_expected"
   ]
  },
  {
   "cell_type": "code",
   "execution_count": 54,
   "id": "aabf2abf-556c-4148-a643-5ff6b1e3efba",
   "metadata": {},
   "outputs": [
    {
     "data": {
      "text/plain": [
       "49815.119655262206"
      ]
     },
     "execution_count": 54,
     "metadata": {},
     "output_type": "execute_result"
    }
   ],
   "source": [
    "B_expected"
   ]
  },
  {
   "cell_type": "code",
   "execution_count": 55,
   "id": "360e725f-6dd7-49b2-ad1b-f9311e4cbb21",
   "metadata": {},
   "outputs": [
    {
     "data": {
      "text/plain": [
       "166604"
      ]
     },
     "execution_count": 55,
     "metadata": {},
     "output_type": "execute_result"
    }
   ],
   "source": [
    "n_np"
   ]
  },
  {
   "cell_type": "code",
   "execution_count": 56,
   "id": "2aa299f5-eeec-46c1-a699-4008ac3917f0",
   "metadata": {},
   "outputs": [
    {
     "data": {
      "text/plain": [
       "1000000.0"
      ]
     },
     "execution_count": 56,
     "metadata": {},
     "output_type": "execute_result"
    }
   ],
   "source": [
    "signal_init_sim_eve[bp]"
   ]
  },
  {
   "cell_type": "code",
   "execution_count": 57,
   "id": "f7db535b-eef8-40c0-8c47-5cd968456204",
   "metadata": {},
   "outputs": [
    {
     "data": {
      "text/plain": [
       "18.6538275"
      ]
     },
     "execution_count": 57,
     "metadata": {},
     "output_type": "execute_result"
    }
   ],
   "source": [
    "cross"
   ]
  },
  {
   "cell_type": "code",
   "execution_count": 58,
   "id": "ca4b79a0-b3be-4fbf-a3c2-27f825f428e7",
   "metadata": {},
   "outputs": [
    {
     "data": {
      "text/plain": [
       "100"
      ]
     },
     "execution_count": 58,
     "metadata": {},
     "output_type": "execute_result"
    }
   ],
   "source": [
    "luminosidad"
   ]
  },
  {
   "cell_type": "code",
   "execution_count": null,
   "id": "c600a4a2-d89a-4c5b-91df-f01054ea6e21",
   "metadata": {},
   "outputs": [],
   "source": []
  }
 ],
 "metadata": {
  "kernelspec": {
   "display_name": "Python 3 (ipykernel)",
   "language": "python",
   "name": "python3"
  },
  "language_info": {
   "codemirror_mode": {
    "name": "ipython",
    "version": 3
   },
   "file_extension": ".py",
   "mimetype": "text/x-python",
   "name": "python",
   "nbconvert_exporter": "python",
   "pygments_lexer": "ipython3",
   "version": "3.8.10"
  }
 },
 "nbformat": 4,
 "nbformat_minor": 5
}
